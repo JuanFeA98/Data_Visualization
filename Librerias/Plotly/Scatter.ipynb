{
 "cells": [
  {
   "cell_type": "markdown",
   "id": "ffc1f990",
   "metadata": {},
   "source": [
    "## **Scatter Plot**"
   ]
  },
  {
   "cell_type": "markdown",
   "id": "434a9313",
   "metadata": {},
   "source": [
    "### **Librerías**"
   ]
  },
  {
   "cell_type": "code",
   "execution_count": 1,
   "id": "f627a26d",
   "metadata": {},
   "outputs": [],
   "source": [
    "import pandas as pd\n",
    "import polars as pl"
   ]
  },
  {
   "cell_type": "code",
   "execution_count": 2,
   "id": "1608334c",
   "metadata": {},
   "outputs": [],
   "source": [
    "import plotly.express as px\n",
    "import plotly.graph_objects as go"
   ]
  },
  {
   "cell_type": "markdown",
   "id": "3db23a82",
   "metadata": {},
   "source": [
    "### **Datos**"
   ]
  },
  {
   "cell_type": "code",
   "execution_count": 3,
   "id": "da07cb81",
   "metadata": {},
   "outputs": [],
   "source": [
    "df = pl.read_csv('../../Data/Raw/Pokemon.csv')"
   ]
  },
  {
   "cell_type": "code",
   "execution_count": 4,
   "id": "e9d576fe",
   "metadata": {},
   "outputs": [
    {
     "data": {
      "text/html": [
       "<div><style>\n",
       ".dataframe > thead > tr,\n",
       ".dataframe > tbody > tr {\n",
       "  text-align: right;\n",
       "  white-space: pre-wrap;\n",
       "}\n",
       "</style>\n",
       "<small>shape: (5, 13)</small><table border=\"1\" class=\"dataframe\"><thead><tr><th>#</th><th>Name</th><th>Type 1</th><th>Type 2</th><th>Total</th><th>HP</th><th>Attack</th><th>Defense</th><th>Sp. Atk</th><th>Sp. Def</th><th>Speed</th><th>Generation</th><th>Legendary</th></tr><tr><td>i64</td><td>str</td><td>str</td><td>str</td><td>i64</td><td>i64</td><td>i64</td><td>i64</td><td>i64</td><td>i64</td><td>i64</td><td>i64</td><td>bool</td></tr></thead><tbody><tr><td>455</td><td>&quot;Carnivine&quot;</td><td>&quot;Grass&quot;</td><td>null</td><td>454</td><td>74</td><td>100</td><td>72</td><td>90</td><td>72</td><td>46</td><td>4</td><td>false</td></tr><tr><td>386</td><td>&quot;DeoxysSpeed Forme&quot;</td><td>&quot;Psychic&quot;</td><td>null</td><td>600</td><td>50</td><td>95</td><td>90</td><td>95</td><td>90</td><td>180</td><td>3</td><td>true</td></tr><tr><td>130</td><td>&quot;Gyarados&quot;</td><td>&quot;Water&quot;</td><td>&quot;Flying&quot;</td><td>540</td><td>95</td><td>125</td><td>79</td><td>60</td><td>100</td><td>81</td><td>1</td><td>false</td></tr><tr><td>102</td><td>&quot;Exeggcute&quot;</td><td>&quot;Grass&quot;</td><td>&quot;Psychic&quot;</td><td>325</td><td>60</td><td>40</td><td>80</td><td>60</td><td>45</td><td>40</td><td>1</td><td>false</td></tr><tr><td>708</td><td>&quot;Phantump&quot;</td><td>&quot;Ghost&quot;</td><td>&quot;Grass&quot;</td><td>309</td><td>43</td><td>70</td><td>48</td><td>50</td><td>60</td><td>38</td><td>6</td><td>false</td></tr></tbody></table></div>"
      ],
      "text/plain": [
       "shape: (5, 13)\n",
       "┌─────┬───────────────────┬─────────┬─────────┬───┬─────────┬───────┬────────────┬───────────┐\n",
       "│ #   ┆ Name              ┆ Type 1  ┆ Type 2  ┆ … ┆ Sp. Def ┆ Speed ┆ Generation ┆ Legendary │\n",
       "│ --- ┆ ---               ┆ ---     ┆ ---     ┆   ┆ ---     ┆ ---   ┆ ---        ┆ ---       │\n",
       "│ i64 ┆ str               ┆ str     ┆ str     ┆   ┆ i64     ┆ i64   ┆ i64        ┆ bool      │\n",
       "╞═════╪═══════════════════╪═════════╪═════════╪═══╪═════════╪═══════╪════════════╪═══════════╡\n",
       "│ 455 ┆ Carnivine         ┆ Grass   ┆ null    ┆ … ┆ 72      ┆ 46    ┆ 4          ┆ false     │\n",
       "│ 386 ┆ DeoxysSpeed Forme ┆ Psychic ┆ null    ┆ … ┆ 90      ┆ 180   ┆ 3          ┆ true      │\n",
       "│ 130 ┆ Gyarados          ┆ Water   ┆ Flying  ┆ … ┆ 100     ┆ 81    ┆ 1          ┆ false     │\n",
       "│ 102 ┆ Exeggcute         ┆ Grass   ┆ Psychic ┆ … ┆ 45      ┆ 40    ┆ 1          ┆ false     │\n",
       "│ 708 ┆ Phantump          ┆ Ghost   ┆ Grass   ┆ … ┆ 60      ┆ 38    ┆ 6          ┆ false     │\n",
       "└─────┴───────────────────┴─────────┴─────────┴───┴─────────┴───────┴────────────┴───────────┘"
      ]
     },
     "execution_count": 4,
     "metadata": {},
     "output_type": "execute_result"
    }
   ],
   "source": [
    "df.sample(5)"
   ]
  },
  {
   "cell_type": "markdown",
   "id": "c7d8b663",
   "metadata": {},
   "source": [
    "### **Limpieza**"
   ]
  },
  {
   "cell_type": "code",
   "execution_count": 5,
   "id": "8e43cd3f",
   "metadata": {},
   "outputs": [],
   "source": [
    "df.columns = [col.replace('.', '').replace(' ', '_') for col in df.columns]"
   ]
  },
  {
   "cell_type": "code",
   "execution_count": 50,
   "id": "f07225a5",
   "metadata": {},
   "outputs": [],
   "source": [
    "df_gen_1 = df.with_columns(\n",
    "    pl.when(pl.col('Legendary') == True)\n",
    "        .then(pl.lit('Legendary'))\n",
    "        .otherwise(pl.lit('Non-Legendary'))\n",
    "        .alias('Legendary_Type')\n",
    ")"
   ]
  },
  {
   "cell_type": "code",
   "execution_count": 51,
   "id": "ebb5b35c",
   "metadata": {},
   "outputs": [],
   "source": [
    "df_gen_1 = df_gen_1.filter(\n",
    "    (pl.col('Generation') == 1) & \n",
    "    (~pl.col('Name').str.contains('Mega'))\n",
    ").to_pandas()"
   ]
  },
  {
   "cell_type": "code",
   "execution_count": null,
   "id": "5e478818",
   "metadata": {},
   "outputs": [],
   "source": [
    "avg_attack = df_gen_1['Attack'].mean()\n",
    "avg_defense = df_gen_1['Defense'].mean()"
   ]
  },
  {
   "cell_type": "markdown",
   "id": "108e2ee9",
   "metadata": {},
   "source": [
    "### **Visualizaciones**"
   ]
  },
  {
   "cell_type": "markdown",
   "id": "6ed6cdb5",
   "metadata": {},
   "source": [
    "#### **Scatterplot - Basic**"
   ]
  },
  {
   "cell_type": "code",
   "execution_count": 52,
   "id": "e1da35c7",
   "metadata": {},
   "outputs": [
    {
     "data": {
      "application/vnd.plotly.v1+json": {
       "config": {
        "plotlyServerURL": "https://plot.ly"
       },
       "data": [
        {
         "hovertemplate": "<b>%{hovertext}</b><br><br>Type_1=Grass<br>Legendary_Type=Non-Legendary<br>Attack=%{x}<br>Defense=%{y}<br>HP=%{marker.size}<extra></extra>",
         "hovertext": [
          "Bulbasaur",
          "Ivysaur",
          "Venusaur",
          "Oddish",
          "Gloom",
          "Vileplume",
          "Bellsprout",
          "Weepinbell",
          "Victreebel",
          "Exeggcute",
          "Exeggutor",
          "Tangela"
         ],
         "legendgroup": "Grass, Non-Legendary",
         "marker": {
          "color": "#636efa",
          "size": [
           45,
           60,
           80,
           45,
           60,
           75,
           50,
           65,
           80,
           60,
           95,
           65
          ],
          "sizemode": "area",
          "sizeref": 0.625,
          "symbol": "circle"
         },
         "mode": "markers",
         "name": "Grass, Non-Legendary",
         "orientation": "v",
         "showlegend": true,
         "type": "scatter",
         "x": [
          49,
          62,
          82,
          50,
          65,
          80,
          75,
          90,
          105,
          40,
          95,
          55
         ],
         "xaxis": "x",
         "y": [
          49,
          63,
          83,
          55,
          70,
          85,
          35,
          50,
          65,
          80,
          85,
          115
         ],
         "yaxis": "y"
        },
        {
         "hovertemplate": "<b>%{hovertext}</b><br><br>Type_1=Fire<br>Legendary_Type=Non-Legendary<br>Attack=%{x}<br>Defense=%{y}<br>HP=%{marker.size}<extra></extra>",
         "hovertext": [
          "Charmander",
          "Charmeleon",
          "Charizard",
          "Vulpix",
          "Ninetales",
          "Growlithe",
          "Arcanine",
          "Ponyta",
          "Rapidash",
          "Magmar",
          "Flareon"
         ],
         "legendgroup": "Fire, Non-Legendary",
         "marker": {
          "color": "#EF553B",
          "size": [
           39,
           58,
           78,
           38,
           73,
           55,
           90,
           50,
           65,
           65,
           65
          ],
          "sizemode": "area",
          "sizeref": 0.625,
          "symbol": "circle"
         },
         "mode": "markers",
         "name": "Fire, Non-Legendary",
         "orientation": "v",
         "showlegend": true,
         "type": "scatter",
         "x": [
          52,
          64,
          84,
          41,
          76,
          70,
          110,
          85,
          100,
          95,
          130
         ],
         "xaxis": "x",
         "y": [
          43,
          58,
          78,
          40,
          75,
          45,
          80,
          55,
          70,
          57,
          60
         ],
         "yaxis": "y"
        },
        {
         "hovertemplate": "<b>%{hovertext}</b><br><br>Type_1=Fire<br>Legendary_Type=Legendary<br>Attack=%{x}<br>Defense=%{y}<br>HP=%{marker.size}<extra></extra>",
         "hovertext": [
          "Moltres"
         ],
         "legendgroup": "Fire, Legendary",
         "marker": {
          "color": "#EF553B",
          "size": [
           90
          ],
          "sizemode": "area",
          "sizeref": 0.625,
          "symbol": "star"
         },
         "mode": "markers",
         "name": "Fire, Legendary",
         "orientation": "v",
         "showlegend": true,
         "type": "scatter",
         "x": [
          100
         ],
         "xaxis": "x",
         "y": [
          90
         ],
         "yaxis": "y"
        },
        {
         "hovertemplate": "<b>%{hovertext}</b><br><br>Type_1=Water<br>Legendary_Type=Non-Legendary<br>Attack=%{x}<br>Defense=%{y}<br>HP=%{marker.size}<extra></extra>",
         "hovertext": [
          "Squirtle",
          "Wartortle",
          "Blastoise",
          "Psyduck",
          "Golduck",
          "Poliwag",
          "Poliwhirl",
          "Poliwrath",
          "Tentacool",
          "Tentacruel",
          "Slowpoke",
          "Slowbro",
          "Seel",
          "Dewgong",
          "Shellder",
          "Cloyster",
          "Krabby",
          "Kingler",
          "Horsea",
          "Seadra",
          "Goldeen",
          "Seaking",
          "Staryu",
          "Starmie",
          "Magikarp",
          "Gyarados",
          "Lapras",
          "Vaporeon"
         ],
         "legendgroup": "Water, Non-Legendary",
         "marker": {
          "color": "#00cc96",
          "size": [
           44,
           59,
           79,
           50,
           80,
           40,
           65,
           90,
           40,
           80,
           90,
           95,
           65,
           90,
           30,
           50,
           30,
           55,
           30,
           55,
           45,
           80,
           30,
           60,
           20,
           95,
           130,
           130
          ],
          "sizemode": "area",
          "sizeref": 0.625,
          "symbol": "circle"
         },
         "mode": "markers",
         "name": "Water, Non-Legendary",
         "orientation": "v",
         "showlegend": true,
         "type": "scatter",
         "x": [
          48,
          63,
          83,
          52,
          82,
          50,
          65,
          95,
          40,
          70,
          65,
          75,
          45,
          70,
          65,
          95,
          105,
          130,
          40,
          65,
          67,
          92,
          45,
          75,
          10,
          125,
          85,
          65
         ],
         "xaxis": "x",
         "y": [
          65,
          80,
          100,
          48,
          78,
          40,
          65,
          95,
          35,
          65,
          65,
          110,
          55,
          80,
          100,
          180,
          90,
          115,
          70,
          95,
          60,
          65,
          55,
          85,
          55,
          79,
          80,
          60
         ],
         "yaxis": "y"
        },
        {
         "hovertemplate": "<b>%{hovertext}</b><br><br>Type_1=Bug<br>Legendary_Type=Non-Legendary<br>Attack=%{x}<br>Defense=%{y}<br>HP=%{marker.size}<extra></extra>",
         "hovertext": [
          "Caterpie",
          "Metapod",
          "Butterfree",
          "Weedle",
          "Kakuna",
          "Beedrill",
          "Paras",
          "Parasect",
          "Venonat",
          "Venomoth",
          "Scyther",
          "Pinsir"
         ],
         "legendgroup": "Bug, Non-Legendary",
         "marker": {
          "color": "#ab63fa",
          "size": [
           45,
           50,
           60,
           40,
           45,
           65,
           35,
           60,
           60,
           70,
           70,
           65
          ],
          "sizemode": "area",
          "sizeref": 0.625,
          "symbol": "circle"
         },
         "mode": "markers",
         "name": "Bug, Non-Legendary",
         "orientation": "v",
         "showlegend": true,
         "type": "scatter",
         "x": [
          30,
          20,
          45,
          35,
          25,
          90,
          70,
          95,
          55,
          65,
          110,
          125
         ],
         "xaxis": "x",
         "y": [
          35,
          55,
          50,
          30,
          50,
          40,
          55,
          80,
          50,
          60,
          80,
          100
         ],
         "yaxis": "y"
        },
        {
         "hovertemplate": "<b>%{hovertext}</b><br><br>Type_1=Normal<br>Legendary_Type=Non-Legendary<br>Attack=%{x}<br>Defense=%{y}<br>HP=%{marker.size}<extra></extra>",
         "hovertext": [
          "Pidgey",
          "Pidgeotto",
          "Pidgeot",
          "Rattata",
          "Raticate",
          "Spearow",
          "Fearow",
          "Jigglypuff",
          "Wigglytuff",
          "Meowth",
          "Persian",
          "Farfetch'd",
          "Doduo",
          "Dodrio",
          "Lickitung",
          "Chansey",
          "Kangaskhan",
          "Tauros",
          "Ditto",
          "Eevee",
          "Porygon",
          "Snorlax"
         ],
         "legendgroup": "Normal, Non-Legendary",
         "marker": {
          "color": "#FFA15A",
          "size": [
           40,
           63,
           83,
           30,
           55,
           40,
           65,
           115,
           140,
           40,
           65,
           52,
           35,
           60,
           90,
           250,
           105,
           75,
           48,
           55,
           65,
           160
          ],
          "sizemode": "area",
          "sizeref": 0.625,
          "symbol": "circle"
         },
         "mode": "markers",
         "name": "Normal, Non-Legendary",
         "orientation": "v",
         "showlegend": true,
         "type": "scatter",
         "x": [
          45,
          60,
          80,
          56,
          81,
          60,
          90,
          45,
          70,
          45,
          70,
          65,
          85,
          110,
          55,
          5,
          95,
          100,
          48,
          55,
          60,
          110
         ],
         "xaxis": "x",
         "y": [
          40,
          55,
          75,
          35,
          60,
          30,
          65,
          20,
          45,
          35,
          60,
          55,
          45,
          70,
          75,
          5,
          80,
          95,
          48,
          50,
          70,
          65
         ],
         "yaxis": "y"
        },
        {
         "hovertemplate": "<b>%{hovertext}</b><br><br>Type_1=Poison<br>Legendary_Type=Non-Legendary<br>Attack=%{x}<br>Defense=%{y}<br>HP=%{marker.size}<extra></extra>",
         "hovertext": [
          "Ekans",
          "Arbok",
          "Nidoran♀",
          "Nidorina",
          "Nidoqueen",
          "Nidoran♂",
          "Nidorino",
          "Nidoking",
          "Zubat",
          "Golbat",
          "Grimer",
          "Muk",
          "Koffing",
          "Weezing"
         ],
         "legendgroup": "Poison, Non-Legendary",
         "marker": {
          "color": "#19d3f3",
          "size": [
           35,
           60,
           55,
           70,
           90,
           46,
           61,
           81,
           40,
           75,
           80,
           105,
           40,
           65
          ],
          "sizemode": "area",
          "sizeref": 0.625,
          "symbol": "circle"
         },
         "mode": "markers",
         "name": "Poison, Non-Legendary",
         "orientation": "v",
         "showlegend": true,
         "type": "scatter",
         "x": [
          60,
          85,
          47,
          62,
          92,
          57,
          72,
          102,
          45,
          80,
          80,
          105,
          65,
          90
         ],
         "xaxis": "x",
         "y": [
          44,
          69,
          52,
          67,
          87,
          40,
          57,
          77,
          35,
          70,
          50,
          75,
          95,
          120
         ],
         "yaxis": "y"
        },
        {
         "hovertemplate": "<b>%{hovertext}</b><br><br>Type_1=Electric<br>Legendary_Type=Non-Legendary<br>Attack=%{x}<br>Defense=%{y}<br>HP=%{marker.size}<extra></extra>",
         "hovertext": [
          "Pikachu",
          "Raichu",
          "Magnemite",
          "Magneton",
          "Voltorb",
          "Electrode",
          "Electabuzz",
          "Jolteon"
         ],
         "legendgroup": "Electric, Non-Legendary",
         "marker": {
          "color": "#FF6692",
          "size": [
           35,
           60,
           25,
           50,
           40,
           60,
           65,
           65
          ],
          "sizemode": "area",
          "sizeref": 0.625,
          "symbol": "circle"
         },
         "mode": "markers",
         "name": "Electric, Non-Legendary",
         "orientation": "v",
         "showlegend": true,
         "type": "scatter",
         "x": [
          55,
          90,
          35,
          60,
          30,
          50,
          83,
          65
         ],
         "xaxis": "x",
         "y": [
          40,
          55,
          70,
          95,
          50,
          70,
          57,
          60
         ],
         "yaxis": "y"
        },
        {
         "hovertemplate": "<b>%{hovertext}</b><br><br>Type_1=Electric<br>Legendary_Type=Legendary<br>Attack=%{x}<br>Defense=%{y}<br>HP=%{marker.size}<extra></extra>",
         "hovertext": [
          "Zapdos"
         ],
         "legendgroup": "Electric, Legendary",
         "marker": {
          "color": "#FF6692",
          "size": [
           90
          ],
          "sizemode": "area",
          "sizeref": 0.625,
          "symbol": "star"
         },
         "mode": "markers",
         "name": "Electric, Legendary",
         "orientation": "v",
         "showlegend": true,
         "type": "scatter",
         "x": [
          90
         ],
         "xaxis": "x",
         "y": [
          85
         ],
         "yaxis": "y"
        },
        {
         "hovertemplate": "<b>%{hovertext}</b><br><br>Type_1=Ground<br>Legendary_Type=Non-Legendary<br>Attack=%{x}<br>Defense=%{y}<br>HP=%{marker.size}<extra></extra>",
         "hovertext": [
          "Sandshrew",
          "Sandslash",
          "Diglett",
          "Dugtrio",
          "Cubone",
          "Marowak",
          "Rhyhorn",
          "Rhydon"
         ],
         "legendgroup": "Ground, Non-Legendary",
         "marker": {
          "color": "#B6E880",
          "size": [
           50,
           75,
           10,
           35,
           50,
           60,
           80,
           105
          ],
          "sizemode": "area",
          "sizeref": 0.625,
          "symbol": "circle"
         },
         "mode": "markers",
         "name": "Ground, Non-Legendary",
         "orientation": "v",
         "showlegend": true,
         "type": "scatter",
         "x": [
          75,
          100,
          55,
          80,
          50,
          80,
          85,
          130
         ],
         "xaxis": "x",
         "y": [
          85,
          110,
          25,
          50,
          95,
          110,
          95,
          120
         ],
         "yaxis": "y"
        },
        {
         "hovertemplate": "<b>%{hovertext}</b><br><br>Type_1=Fairy<br>Legendary_Type=Non-Legendary<br>Attack=%{x}<br>Defense=%{y}<br>HP=%{marker.size}<extra></extra>",
         "hovertext": [
          "Clefairy",
          "Clefable"
         ],
         "legendgroup": "Fairy, Non-Legendary",
         "marker": {
          "color": "#FF97FF",
          "size": [
           70,
           95
          ],
          "sizemode": "area",
          "sizeref": 0.625,
          "symbol": "circle"
         },
         "mode": "markers",
         "name": "Fairy, Non-Legendary",
         "orientation": "v",
         "showlegend": true,
         "type": "scatter",
         "x": [
          45,
          70
         ],
         "xaxis": "x",
         "y": [
          48,
          73
         ],
         "yaxis": "y"
        },
        {
         "hovertemplate": "<b>%{hovertext}</b><br><br>Type_1=Fighting<br>Legendary_Type=Non-Legendary<br>Attack=%{x}<br>Defense=%{y}<br>HP=%{marker.size}<extra></extra>",
         "hovertext": [
          "Mankey",
          "Primeape",
          "Machop",
          "Machoke",
          "Machamp",
          "Hitmonlee",
          "Hitmonchan"
         ],
         "legendgroup": "Fighting, Non-Legendary",
         "marker": {
          "color": "#FECB52",
          "size": [
           40,
           65,
           70,
           80,
           90,
           50,
           50
          ],
          "sizemode": "area",
          "sizeref": 0.625,
          "symbol": "circle"
         },
         "mode": "markers",
         "name": "Fighting, Non-Legendary",
         "orientation": "v",
         "showlegend": true,
         "type": "scatter",
         "x": [
          80,
          105,
          80,
          100,
          130,
          120,
          105
         ],
         "xaxis": "x",
         "y": [
          35,
          60,
          50,
          70,
          80,
          53,
          79
         ],
         "yaxis": "y"
        },
        {
         "hovertemplate": "<b>%{hovertext}</b><br><br>Type_1=Psychic<br>Legendary_Type=Non-Legendary<br>Attack=%{x}<br>Defense=%{y}<br>HP=%{marker.size}<extra></extra>",
         "hovertext": [
          "Abra",
          "Kadabra",
          "Alakazam",
          "Drowzee",
          "Hypno",
          "Mr. Mime",
          "Mew"
         ],
         "legendgroup": "Psychic, Non-Legendary",
         "marker": {
          "color": "#636efa",
          "size": [
           25,
           40,
           55,
           60,
           85,
           40,
           100
          ],
          "sizemode": "area",
          "sizeref": 0.625,
          "symbol": "circle"
         },
         "mode": "markers",
         "name": "Psychic, Non-Legendary",
         "orientation": "v",
         "showlegend": true,
         "type": "scatter",
         "x": [
          20,
          35,
          50,
          48,
          73,
          45,
          100
         ],
         "xaxis": "x",
         "y": [
          15,
          30,
          45,
          45,
          70,
          65,
          100
         ],
         "yaxis": "y"
        },
        {
         "hovertemplate": "<b>%{hovertext}</b><br><br>Type_1=Psychic<br>Legendary_Type=Legendary<br>Attack=%{x}<br>Defense=%{y}<br>HP=%{marker.size}<extra></extra>",
         "hovertext": [
          "Mewtwo"
         ],
         "legendgroup": "Psychic, Legendary",
         "marker": {
          "color": "#636efa",
          "size": [
           106
          ],
          "sizemode": "area",
          "sizeref": 0.625,
          "symbol": "star"
         },
         "mode": "markers",
         "name": "Psychic, Legendary",
         "orientation": "v",
         "showlegend": true,
         "type": "scatter",
         "x": [
          110
         ],
         "xaxis": "x",
         "y": [
          90
         ],
         "yaxis": "y"
        },
        {
         "hovertemplate": "<b>%{hovertext}</b><br><br>Type_1=Rock<br>Legendary_Type=Non-Legendary<br>Attack=%{x}<br>Defense=%{y}<br>HP=%{marker.size}<extra></extra>",
         "hovertext": [
          "Geodude",
          "Graveler",
          "Golem",
          "Onix",
          "Omanyte",
          "Omastar",
          "Kabuto",
          "Kabutops",
          "Aerodactyl"
         ],
         "legendgroup": "Rock, Non-Legendary",
         "marker": {
          "color": "#EF553B",
          "size": [
           40,
           55,
           80,
           35,
           35,
           70,
           30,
           60,
           80
          ],
          "sizemode": "area",
          "sizeref": 0.625,
          "symbol": "circle"
         },
         "mode": "markers",
         "name": "Rock, Non-Legendary",
         "orientation": "v",
         "showlegend": true,
         "type": "scatter",
         "x": [
          80,
          95,
          120,
          45,
          40,
          60,
          80,
          115,
          105
         ],
         "xaxis": "x",
         "y": [
          100,
          115,
          130,
          160,
          100,
          125,
          90,
          105,
          65
         ],
         "yaxis": "y"
        },
        {
         "hovertemplate": "<b>%{hovertext}</b><br><br>Type_1=Ghost<br>Legendary_Type=Non-Legendary<br>Attack=%{x}<br>Defense=%{y}<br>HP=%{marker.size}<extra></extra>",
         "hovertext": [
          "Gastly",
          "Haunter",
          "Gengar"
         ],
         "legendgroup": "Ghost, Non-Legendary",
         "marker": {
          "color": "#00cc96",
          "size": [
           30,
           45,
           60
          ],
          "sizemode": "area",
          "sizeref": 0.625,
          "symbol": "circle"
         },
         "mode": "markers",
         "name": "Ghost, Non-Legendary",
         "orientation": "v",
         "showlegend": true,
         "type": "scatter",
         "x": [
          35,
          50,
          65
         ],
         "xaxis": "x",
         "y": [
          30,
          45,
          60
         ],
         "yaxis": "y"
        },
        {
         "hovertemplate": "<b>%{hovertext}</b><br><br>Type_1=Ice<br>Legendary_Type=Non-Legendary<br>Attack=%{x}<br>Defense=%{y}<br>HP=%{marker.size}<extra></extra>",
         "hovertext": [
          "Jynx"
         ],
         "legendgroup": "Ice, Non-Legendary",
         "marker": {
          "color": "#ab63fa",
          "size": [
           65
          ],
          "sizemode": "area",
          "sizeref": 0.625,
          "symbol": "circle"
         },
         "mode": "markers",
         "name": "Ice, Non-Legendary",
         "orientation": "v",
         "showlegend": true,
         "type": "scatter",
         "x": [
          50
         ],
         "xaxis": "x",
         "y": [
          35
         ],
         "yaxis": "y"
        },
        {
         "hovertemplate": "<b>%{hovertext}</b><br><br>Type_1=Ice<br>Legendary_Type=Legendary<br>Attack=%{x}<br>Defense=%{y}<br>HP=%{marker.size}<extra></extra>",
         "hovertext": [
          "Articuno"
         ],
         "legendgroup": "Ice, Legendary",
         "marker": {
          "color": "#ab63fa",
          "size": [
           90
          ],
          "sizemode": "area",
          "sizeref": 0.625,
          "symbol": "star"
         },
         "mode": "markers",
         "name": "Ice, Legendary",
         "orientation": "v",
         "showlegend": true,
         "type": "scatter",
         "x": [
          85
         ],
         "xaxis": "x",
         "y": [
          100
         ],
         "yaxis": "y"
        },
        {
         "hovertemplate": "<b>%{hovertext}</b><br><br>Type_1=Dragon<br>Legendary_Type=Non-Legendary<br>Attack=%{x}<br>Defense=%{y}<br>HP=%{marker.size}<extra></extra>",
         "hovertext": [
          "Dratini",
          "Dragonair",
          "Dragonite"
         ],
         "legendgroup": "Dragon, Non-Legendary",
         "marker": {
          "color": "#FFA15A",
          "size": [
           41,
           61,
           91
          ],
          "sizemode": "area",
          "sizeref": 0.625,
          "symbol": "circle"
         },
         "mode": "markers",
         "name": "Dragon, Non-Legendary",
         "orientation": "v",
         "showlegend": true,
         "type": "scatter",
         "x": [
          64,
          84,
          134
         ],
         "xaxis": "x",
         "y": [
          45,
          65,
          95
         ],
         "yaxis": "y"
        }
       ],
       "layout": {
        "legend": {
         "itemsizing": "constant",
         "title": {
          "text": "Type_1, Legendary_Type"
         },
         "tracegroupgap": 0
        },
        "margin": {
         "t": 60
        },
        "template": {
         "data": {
          "bar": [
           {
            "error_x": {
             "color": "#2a3f5f"
            },
            "error_y": {
             "color": "#2a3f5f"
            },
            "marker": {
             "line": {
              "color": "#E5ECF6",
              "width": 0.5
             },
             "pattern": {
              "fillmode": "overlay",
              "size": 10,
              "solidity": 0.2
             }
            },
            "type": "bar"
           }
          ],
          "barpolar": [
           {
            "marker": {
             "line": {
              "color": "#E5ECF6",
              "width": 0.5
             },
             "pattern": {
              "fillmode": "overlay",
              "size": 10,
              "solidity": 0.2
             }
            },
            "type": "barpolar"
           }
          ],
          "carpet": [
           {
            "aaxis": {
             "endlinecolor": "#2a3f5f",
             "gridcolor": "white",
             "linecolor": "white",
             "minorgridcolor": "white",
             "startlinecolor": "#2a3f5f"
            },
            "baxis": {
             "endlinecolor": "#2a3f5f",
             "gridcolor": "white",
             "linecolor": "white",
             "minorgridcolor": "white",
             "startlinecolor": "#2a3f5f"
            },
            "type": "carpet"
           }
          ],
          "choropleth": [
           {
            "colorbar": {
             "outlinewidth": 0,
             "ticks": ""
            },
            "type": "choropleth"
           }
          ],
          "contour": [
           {
            "colorbar": {
             "outlinewidth": 0,
             "ticks": ""
            },
            "colorscale": [
             [
              0,
              "#0d0887"
             ],
             [
              0.1111111111111111,
              "#46039f"
             ],
             [
              0.2222222222222222,
              "#7201a8"
             ],
             [
              0.3333333333333333,
              "#9c179e"
             ],
             [
              0.4444444444444444,
              "#bd3786"
             ],
             [
              0.5555555555555556,
              "#d8576b"
             ],
             [
              0.6666666666666666,
              "#ed7953"
             ],
             [
              0.7777777777777778,
              "#fb9f3a"
             ],
             [
              0.8888888888888888,
              "#fdca26"
             ],
             [
              1,
              "#f0f921"
             ]
            ],
            "type": "contour"
           }
          ],
          "contourcarpet": [
           {
            "colorbar": {
             "outlinewidth": 0,
             "ticks": ""
            },
            "type": "contourcarpet"
           }
          ],
          "heatmap": [
           {
            "colorbar": {
             "outlinewidth": 0,
             "ticks": ""
            },
            "colorscale": [
             [
              0,
              "#0d0887"
             ],
             [
              0.1111111111111111,
              "#46039f"
             ],
             [
              0.2222222222222222,
              "#7201a8"
             ],
             [
              0.3333333333333333,
              "#9c179e"
             ],
             [
              0.4444444444444444,
              "#bd3786"
             ],
             [
              0.5555555555555556,
              "#d8576b"
             ],
             [
              0.6666666666666666,
              "#ed7953"
             ],
             [
              0.7777777777777778,
              "#fb9f3a"
             ],
             [
              0.8888888888888888,
              "#fdca26"
             ],
             [
              1,
              "#f0f921"
             ]
            ],
            "type": "heatmap"
           }
          ],
          "heatmapgl": [
           {
            "colorbar": {
             "outlinewidth": 0,
             "ticks": ""
            },
            "colorscale": [
             [
              0,
              "#0d0887"
             ],
             [
              0.1111111111111111,
              "#46039f"
             ],
             [
              0.2222222222222222,
              "#7201a8"
             ],
             [
              0.3333333333333333,
              "#9c179e"
             ],
             [
              0.4444444444444444,
              "#bd3786"
             ],
             [
              0.5555555555555556,
              "#d8576b"
             ],
             [
              0.6666666666666666,
              "#ed7953"
             ],
             [
              0.7777777777777778,
              "#fb9f3a"
             ],
             [
              0.8888888888888888,
              "#fdca26"
             ],
             [
              1,
              "#f0f921"
             ]
            ],
            "type": "heatmapgl"
           }
          ],
          "histogram": [
           {
            "marker": {
             "pattern": {
              "fillmode": "overlay",
              "size": 10,
              "solidity": 0.2
             }
            },
            "type": "histogram"
           }
          ],
          "histogram2d": [
           {
            "colorbar": {
             "outlinewidth": 0,
             "ticks": ""
            },
            "colorscale": [
             [
              0,
              "#0d0887"
             ],
             [
              0.1111111111111111,
              "#46039f"
             ],
             [
              0.2222222222222222,
              "#7201a8"
             ],
             [
              0.3333333333333333,
              "#9c179e"
             ],
             [
              0.4444444444444444,
              "#bd3786"
             ],
             [
              0.5555555555555556,
              "#d8576b"
             ],
             [
              0.6666666666666666,
              "#ed7953"
             ],
             [
              0.7777777777777778,
              "#fb9f3a"
             ],
             [
              0.8888888888888888,
              "#fdca26"
             ],
             [
              1,
              "#f0f921"
             ]
            ],
            "type": "histogram2d"
           }
          ],
          "histogram2dcontour": [
           {
            "colorbar": {
             "outlinewidth": 0,
             "ticks": ""
            },
            "colorscale": [
             [
              0,
              "#0d0887"
             ],
             [
              0.1111111111111111,
              "#46039f"
             ],
             [
              0.2222222222222222,
              "#7201a8"
             ],
             [
              0.3333333333333333,
              "#9c179e"
             ],
             [
              0.4444444444444444,
              "#bd3786"
             ],
             [
              0.5555555555555556,
              "#d8576b"
             ],
             [
              0.6666666666666666,
              "#ed7953"
             ],
             [
              0.7777777777777778,
              "#fb9f3a"
             ],
             [
              0.8888888888888888,
              "#fdca26"
             ],
             [
              1,
              "#f0f921"
             ]
            ],
            "type": "histogram2dcontour"
           }
          ],
          "mesh3d": [
           {
            "colorbar": {
             "outlinewidth": 0,
             "ticks": ""
            },
            "type": "mesh3d"
           }
          ],
          "parcoords": [
           {
            "line": {
             "colorbar": {
              "outlinewidth": 0,
              "ticks": ""
             }
            },
            "type": "parcoords"
           }
          ],
          "pie": [
           {
            "automargin": true,
            "type": "pie"
           }
          ],
          "scatter": [
           {
            "fillpattern": {
             "fillmode": "overlay",
             "size": 10,
             "solidity": 0.2
            },
            "type": "scatter"
           }
          ],
          "scatter3d": [
           {
            "line": {
             "colorbar": {
              "outlinewidth": 0,
              "ticks": ""
             }
            },
            "marker": {
             "colorbar": {
              "outlinewidth": 0,
              "ticks": ""
             }
            },
            "type": "scatter3d"
           }
          ],
          "scattercarpet": [
           {
            "marker": {
             "colorbar": {
              "outlinewidth": 0,
              "ticks": ""
             }
            },
            "type": "scattercarpet"
           }
          ],
          "scattergeo": [
           {
            "marker": {
             "colorbar": {
              "outlinewidth": 0,
              "ticks": ""
             }
            },
            "type": "scattergeo"
           }
          ],
          "scattergl": [
           {
            "marker": {
             "colorbar": {
              "outlinewidth": 0,
              "ticks": ""
             }
            },
            "type": "scattergl"
           }
          ],
          "scattermapbox": [
           {
            "marker": {
             "colorbar": {
              "outlinewidth": 0,
              "ticks": ""
             }
            },
            "type": "scattermapbox"
           }
          ],
          "scatterpolar": [
           {
            "marker": {
             "colorbar": {
              "outlinewidth": 0,
              "ticks": ""
             }
            },
            "type": "scatterpolar"
           }
          ],
          "scatterpolargl": [
           {
            "marker": {
             "colorbar": {
              "outlinewidth": 0,
              "ticks": ""
             }
            },
            "type": "scatterpolargl"
           }
          ],
          "scatterternary": [
           {
            "marker": {
             "colorbar": {
              "outlinewidth": 0,
              "ticks": ""
             }
            },
            "type": "scatterternary"
           }
          ],
          "surface": [
           {
            "colorbar": {
             "outlinewidth": 0,
             "ticks": ""
            },
            "colorscale": [
             [
              0,
              "#0d0887"
             ],
             [
              0.1111111111111111,
              "#46039f"
             ],
             [
              0.2222222222222222,
              "#7201a8"
             ],
             [
              0.3333333333333333,
              "#9c179e"
             ],
             [
              0.4444444444444444,
              "#bd3786"
             ],
             [
              0.5555555555555556,
              "#d8576b"
             ],
             [
              0.6666666666666666,
              "#ed7953"
             ],
             [
              0.7777777777777778,
              "#fb9f3a"
             ],
             [
              0.8888888888888888,
              "#fdca26"
             ],
             [
              1,
              "#f0f921"
             ]
            ],
            "type": "surface"
           }
          ],
          "table": [
           {
            "cells": {
             "fill": {
              "color": "#EBF0F8"
             },
             "line": {
              "color": "white"
             }
            },
            "header": {
             "fill": {
              "color": "#C8D4E3"
             },
             "line": {
              "color": "white"
             }
            },
            "type": "table"
           }
          ]
         },
         "layout": {
          "annotationdefaults": {
           "arrowcolor": "#2a3f5f",
           "arrowhead": 0,
           "arrowwidth": 1
          },
          "autotypenumbers": "strict",
          "coloraxis": {
           "colorbar": {
            "outlinewidth": 0,
            "ticks": ""
           }
          },
          "colorscale": {
           "diverging": [
            [
             0,
             "#8e0152"
            ],
            [
             0.1,
             "#c51b7d"
            ],
            [
             0.2,
             "#de77ae"
            ],
            [
             0.3,
             "#f1b6da"
            ],
            [
             0.4,
             "#fde0ef"
            ],
            [
             0.5,
             "#f7f7f7"
            ],
            [
             0.6,
             "#e6f5d0"
            ],
            [
             0.7,
             "#b8e186"
            ],
            [
             0.8,
             "#7fbc41"
            ],
            [
             0.9,
             "#4d9221"
            ],
            [
             1,
             "#276419"
            ]
           ],
           "sequential": [
            [
             0,
             "#0d0887"
            ],
            [
             0.1111111111111111,
             "#46039f"
            ],
            [
             0.2222222222222222,
             "#7201a8"
            ],
            [
             0.3333333333333333,
             "#9c179e"
            ],
            [
             0.4444444444444444,
             "#bd3786"
            ],
            [
             0.5555555555555556,
             "#d8576b"
            ],
            [
             0.6666666666666666,
             "#ed7953"
            ],
            [
             0.7777777777777778,
             "#fb9f3a"
            ],
            [
             0.8888888888888888,
             "#fdca26"
            ],
            [
             1,
             "#f0f921"
            ]
           ],
           "sequentialminus": [
            [
             0,
             "#0d0887"
            ],
            [
             0.1111111111111111,
             "#46039f"
            ],
            [
             0.2222222222222222,
             "#7201a8"
            ],
            [
             0.3333333333333333,
             "#9c179e"
            ],
            [
             0.4444444444444444,
             "#bd3786"
            ],
            [
             0.5555555555555556,
             "#d8576b"
            ],
            [
             0.6666666666666666,
             "#ed7953"
            ],
            [
             0.7777777777777778,
             "#fb9f3a"
            ],
            [
             0.8888888888888888,
             "#fdca26"
            ],
            [
             1,
             "#f0f921"
            ]
           ]
          },
          "colorway": [
           "#636efa",
           "#EF553B",
           "#00cc96",
           "#ab63fa",
           "#FFA15A",
           "#19d3f3",
           "#FF6692",
           "#B6E880",
           "#FF97FF",
           "#FECB52"
          ],
          "font": {
           "color": "#2a3f5f"
          },
          "geo": {
           "bgcolor": "white",
           "lakecolor": "white",
           "landcolor": "#E5ECF6",
           "showlakes": true,
           "showland": true,
           "subunitcolor": "white"
          },
          "hoverlabel": {
           "align": "left"
          },
          "hovermode": "closest",
          "mapbox": {
           "style": "light"
          },
          "paper_bgcolor": "white",
          "plot_bgcolor": "#E5ECF6",
          "polar": {
           "angularaxis": {
            "gridcolor": "white",
            "linecolor": "white",
            "ticks": ""
           },
           "bgcolor": "#E5ECF6",
           "radialaxis": {
            "gridcolor": "white",
            "linecolor": "white",
            "ticks": ""
           }
          },
          "scene": {
           "xaxis": {
            "backgroundcolor": "#E5ECF6",
            "gridcolor": "white",
            "gridwidth": 2,
            "linecolor": "white",
            "showbackground": true,
            "ticks": "",
            "zerolinecolor": "white"
           },
           "yaxis": {
            "backgroundcolor": "#E5ECF6",
            "gridcolor": "white",
            "gridwidth": 2,
            "linecolor": "white",
            "showbackground": true,
            "ticks": "",
            "zerolinecolor": "white"
           },
           "zaxis": {
            "backgroundcolor": "#E5ECF6",
            "gridcolor": "white",
            "gridwidth": 2,
            "linecolor": "white",
            "showbackground": true,
            "ticks": "",
            "zerolinecolor": "white"
           }
          },
          "shapedefaults": {
           "line": {
            "color": "#2a3f5f"
           }
          },
          "ternary": {
           "aaxis": {
            "gridcolor": "white",
            "linecolor": "white",
            "ticks": ""
           },
           "baxis": {
            "gridcolor": "white",
            "linecolor": "white",
            "ticks": ""
           },
           "bgcolor": "#E5ECF6",
           "caxis": {
            "gridcolor": "white",
            "linecolor": "white",
            "ticks": ""
           }
          },
          "title": {
           "x": 0.05
          },
          "xaxis": {
           "automargin": true,
           "gridcolor": "white",
           "linecolor": "white",
           "ticks": "",
           "title": {
            "standoff": 15
           },
           "zerolinecolor": "white",
           "zerolinewidth": 2
          },
          "yaxis": {
           "automargin": true,
           "gridcolor": "white",
           "linecolor": "white",
           "ticks": "",
           "title": {
            "standoff": 15
           },
           "zerolinecolor": "white",
           "zerolinewidth": 2
          }
         }
        },
        "xaxis": {
         "anchor": "y",
         "domain": [
          0,
          1
         ],
         "title": {
          "text": "Attack"
         }
        },
        "yaxis": {
         "anchor": "x",
         "domain": [
          0,
          1
         ],
         "title": {
          "text": "Defense"
         }
        }
       }
      }
     },
     "metadata": {},
     "output_type": "display_data"
    }
   ],
   "source": [
    "px.scatter(\n",
    "    data_frame=df_gen_1,\n",
    "    x='Attack',\n",
    "    y='Defense',\n",
    "    color='Type_1',\n",
    "    size='HP',\n",
    "    hover_name = 'Name',\n",
    "    symbol='Legendary_Type',\n",
    "    symbol_map={\n",
    "        'Legendary': 'star',\n",
    "        'Non-Legendary': 'circle'\n",
    "    }\n",
    ")"
   ]
  },
  {
   "cell_type": "markdown",
   "id": "b96b6de1",
   "metadata": {},
   "source": [
    "#### **Scatterplot - Layout**"
   ]
  },
  {
   "cell_type": "code",
   "execution_count": 53,
   "id": "035939aa",
   "metadata": {},
   "outputs": [
    {
     "data": {
      "application/vnd.plotly.v1+json": {
       "config": {
        "plotlyServerURL": "https://plot.ly"
       },
       "data": [
        {
         "hovertemplate": "<b>%{hovertext}</b><br><br>Type_1=Grass<br>Legendary_Type=Non-Legendary<br>Attack=%{x}<br>Defense=%{y}<br>HP=%{marker.size}<extra></extra>",
         "hovertext": [
          "Bulbasaur",
          "Ivysaur",
          "Venusaur",
          "Oddish",
          "Gloom",
          "Vileplume",
          "Bellsprout",
          "Weepinbell",
          "Victreebel",
          "Exeggcute",
          "Exeggutor",
          "Tangela"
         ],
         "legendgroup": "Grass, Non-Legendary",
         "marker": {
          "color": "#636efa",
          "size": [
           45,
           60,
           80,
           45,
           60,
           75,
           50,
           65,
           80,
           60,
           95,
           65
          ],
          "sizemode": "area",
          "sizeref": 0.625,
          "symbol": "circle"
         },
         "mode": "markers",
         "name": "Grass, Non-Legendary",
         "orientation": "v",
         "showlegend": true,
         "type": "scatter",
         "x": [
          49,
          62,
          82,
          50,
          65,
          80,
          75,
          90,
          105,
          40,
          95,
          55
         ],
         "xaxis": "x",
         "y": [
          49,
          63,
          83,
          55,
          70,
          85,
          35,
          50,
          65,
          80,
          85,
          115
         ],
         "yaxis": "y"
        },
        {
         "hovertemplate": "<b>%{hovertext}</b><br><br>Type_1=Fire<br>Legendary_Type=Non-Legendary<br>Attack=%{x}<br>Defense=%{y}<br>HP=%{marker.size}<extra></extra>",
         "hovertext": [
          "Charmander",
          "Charmeleon",
          "Charizard",
          "Vulpix",
          "Ninetales",
          "Growlithe",
          "Arcanine",
          "Ponyta",
          "Rapidash",
          "Magmar",
          "Flareon"
         ],
         "legendgroup": "Fire, Non-Legendary",
         "marker": {
          "color": "#EF553B",
          "size": [
           39,
           58,
           78,
           38,
           73,
           55,
           90,
           50,
           65,
           65,
           65
          ],
          "sizemode": "area",
          "sizeref": 0.625,
          "symbol": "circle"
         },
         "mode": "markers",
         "name": "Fire, Non-Legendary",
         "orientation": "v",
         "showlegend": true,
         "type": "scatter",
         "x": [
          52,
          64,
          84,
          41,
          76,
          70,
          110,
          85,
          100,
          95,
          130
         ],
         "xaxis": "x",
         "y": [
          43,
          58,
          78,
          40,
          75,
          45,
          80,
          55,
          70,
          57,
          60
         ],
         "yaxis": "y"
        },
        {
         "hovertemplate": "<b>%{hovertext}</b><br><br>Type_1=Fire<br>Legendary_Type=Legendary<br>Attack=%{x}<br>Defense=%{y}<br>HP=%{marker.size}<extra></extra>",
         "hovertext": [
          "Moltres"
         ],
         "legendgroup": "Fire, Legendary",
         "marker": {
          "color": "#EF553B",
          "size": [
           90
          ],
          "sizemode": "area",
          "sizeref": 0.625,
          "symbol": "star"
         },
         "mode": "markers",
         "name": "Fire, Legendary",
         "orientation": "v",
         "showlegend": true,
         "type": "scatter",
         "x": [
          100
         ],
         "xaxis": "x",
         "y": [
          90
         ],
         "yaxis": "y"
        },
        {
         "hovertemplate": "<b>%{hovertext}</b><br><br>Type_1=Water<br>Legendary_Type=Non-Legendary<br>Attack=%{x}<br>Defense=%{y}<br>HP=%{marker.size}<extra></extra>",
         "hovertext": [
          "Squirtle",
          "Wartortle",
          "Blastoise",
          "Psyduck",
          "Golduck",
          "Poliwag",
          "Poliwhirl",
          "Poliwrath",
          "Tentacool",
          "Tentacruel",
          "Slowpoke",
          "Slowbro",
          "Seel",
          "Dewgong",
          "Shellder",
          "Cloyster",
          "Krabby",
          "Kingler",
          "Horsea",
          "Seadra",
          "Goldeen",
          "Seaking",
          "Staryu",
          "Starmie",
          "Magikarp",
          "Gyarados",
          "Lapras",
          "Vaporeon"
         ],
         "legendgroup": "Water, Non-Legendary",
         "marker": {
          "color": "#00cc96",
          "size": [
           44,
           59,
           79,
           50,
           80,
           40,
           65,
           90,
           40,
           80,
           90,
           95,
           65,
           90,
           30,
           50,
           30,
           55,
           30,
           55,
           45,
           80,
           30,
           60,
           20,
           95,
           130,
           130
          ],
          "sizemode": "area",
          "sizeref": 0.625,
          "symbol": "circle"
         },
         "mode": "markers",
         "name": "Water, Non-Legendary",
         "orientation": "v",
         "showlegend": true,
         "type": "scatter",
         "x": [
          48,
          63,
          83,
          52,
          82,
          50,
          65,
          95,
          40,
          70,
          65,
          75,
          45,
          70,
          65,
          95,
          105,
          130,
          40,
          65,
          67,
          92,
          45,
          75,
          10,
          125,
          85,
          65
         ],
         "xaxis": "x",
         "y": [
          65,
          80,
          100,
          48,
          78,
          40,
          65,
          95,
          35,
          65,
          65,
          110,
          55,
          80,
          100,
          180,
          90,
          115,
          70,
          95,
          60,
          65,
          55,
          85,
          55,
          79,
          80,
          60
         ],
         "yaxis": "y"
        },
        {
         "hovertemplate": "<b>%{hovertext}</b><br><br>Type_1=Bug<br>Legendary_Type=Non-Legendary<br>Attack=%{x}<br>Defense=%{y}<br>HP=%{marker.size}<extra></extra>",
         "hovertext": [
          "Caterpie",
          "Metapod",
          "Butterfree",
          "Weedle",
          "Kakuna",
          "Beedrill",
          "Paras",
          "Parasect",
          "Venonat",
          "Venomoth",
          "Scyther",
          "Pinsir"
         ],
         "legendgroup": "Bug, Non-Legendary",
         "marker": {
          "color": "#ab63fa",
          "size": [
           45,
           50,
           60,
           40,
           45,
           65,
           35,
           60,
           60,
           70,
           70,
           65
          ],
          "sizemode": "area",
          "sizeref": 0.625,
          "symbol": "circle"
         },
         "mode": "markers",
         "name": "Bug, Non-Legendary",
         "orientation": "v",
         "showlegend": true,
         "type": "scatter",
         "x": [
          30,
          20,
          45,
          35,
          25,
          90,
          70,
          95,
          55,
          65,
          110,
          125
         ],
         "xaxis": "x",
         "y": [
          35,
          55,
          50,
          30,
          50,
          40,
          55,
          80,
          50,
          60,
          80,
          100
         ],
         "yaxis": "y"
        },
        {
         "hovertemplate": "<b>%{hovertext}</b><br><br>Type_1=Normal<br>Legendary_Type=Non-Legendary<br>Attack=%{x}<br>Defense=%{y}<br>HP=%{marker.size}<extra></extra>",
         "hovertext": [
          "Pidgey",
          "Pidgeotto",
          "Pidgeot",
          "Rattata",
          "Raticate",
          "Spearow",
          "Fearow",
          "Jigglypuff",
          "Wigglytuff",
          "Meowth",
          "Persian",
          "Farfetch'd",
          "Doduo",
          "Dodrio",
          "Lickitung",
          "Chansey",
          "Kangaskhan",
          "Tauros",
          "Ditto",
          "Eevee",
          "Porygon",
          "Snorlax"
         ],
         "legendgroup": "Normal, Non-Legendary",
         "marker": {
          "color": "#FFA15A",
          "size": [
           40,
           63,
           83,
           30,
           55,
           40,
           65,
           115,
           140,
           40,
           65,
           52,
           35,
           60,
           90,
           250,
           105,
           75,
           48,
           55,
           65,
           160
          ],
          "sizemode": "area",
          "sizeref": 0.625,
          "symbol": "circle"
         },
         "mode": "markers",
         "name": "Normal, Non-Legendary",
         "orientation": "v",
         "showlegend": true,
         "type": "scatter",
         "x": [
          45,
          60,
          80,
          56,
          81,
          60,
          90,
          45,
          70,
          45,
          70,
          65,
          85,
          110,
          55,
          5,
          95,
          100,
          48,
          55,
          60,
          110
         ],
         "xaxis": "x",
         "y": [
          40,
          55,
          75,
          35,
          60,
          30,
          65,
          20,
          45,
          35,
          60,
          55,
          45,
          70,
          75,
          5,
          80,
          95,
          48,
          50,
          70,
          65
         ],
         "yaxis": "y"
        },
        {
         "hovertemplate": "<b>%{hovertext}</b><br><br>Type_1=Poison<br>Legendary_Type=Non-Legendary<br>Attack=%{x}<br>Defense=%{y}<br>HP=%{marker.size}<extra></extra>",
         "hovertext": [
          "Ekans",
          "Arbok",
          "Nidoran♀",
          "Nidorina",
          "Nidoqueen",
          "Nidoran♂",
          "Nidorino",
          "Nidoking",
          "Zubat",
          "Golbat",
          "Grimer",
          "Muk",
          "Koffing",
          "Weezing"
         ],
         "legendgroup": "Poison, Non-Legendary",
         "marker": {
          "color": "#19d3f3",
          "size": [
           35,
           60,
           55,
           70,
           90,
           46,
           61,
           81,
           40,
           75,
           80,
           105,
           40,
           65
          ],
          "sizemode": "area",
          "sizeref": 0.625,
          "symbol": "circle"
         },
         "mode": "markers",
         "name": "Poison, Non-Legendary",
         "orientation": "v",
         "showlegend": true,
         "type": "scatter",
         "x": [
          60,
          85,
          47,
          62,
          92,
          57,
          72,
          102,
          45,
          80,
          80,
          105,
          65,
          90
         ],
         "xaxis": "x",
         "y": [
          44,
          69,
          52,
          67,
          87,
          40,
          57,
          77,
          35,
          70,
          50,
          75,
          95,
          120
         ],
         "yaxis": "y"
        },
        {
         "hovertemplate": "<b>%{hovertext}</b><br><br>Type_1=Electric<br>Legendary_Type=Non-Legendary<br>Attack=%{x}<br>Defense=%{y}<br>HP=%{marker.size}<extra></extra>",
         "hovertext": [
          "Pikachu",
          "Raichu",
          "Magnemite",
          "Magneton",
          "Voltorb",
          "Electrode",
          "Electabuzz",
          "Jolteon"
         ],
         "legendgroup": "Electric, Non-Legendary",
         "marker": {
          "color": "#FF6692",
          "size": [
           35,
           60,
           25,
           50,
           40,
           60,
           65,
           65
          ],
          "sizemode": "area",
          "sizeref": 0.625,
          "symbol": "circle"
         },
         "mode": "markers",
         "name": "Electric, Non-Legendary",
         "orientation": "v",
         "showlegend": true,
         "type": "scatter",
         "x": [
          55,
          90,
          35,
          60,
          30,
          50,
          83,
          65
         ],
         "xaxis": "x",
         "y": [
          40,
          55,
          70,
          95,
          50,
          70,
          57,
          60
         ],
         "yaxis": "y"
        },
        {
         "hovertemplate": "<b>%{hovertext}</b><br><br>Type_1=Electric<br>Legendary_Type=Legendary<br>Attack=%{x}<br>Defense=%{y}<br>HP=%{marker.size}<extra></extra>",
         "hovertext": [
          "Zapdos"
         ],
         "legendgroup": "Electric, Legendary",
         "marker": {
          "color": "#FF6692",
          "size": [
           90
          ],
          "sizemode": "area",
          "sizeref": 0.625,
          "symbol": "star"
         },
         "mode": "markers",
         "name": "Electric, Legendary",
         "orientation": "v",
         "showlegend": true,
         "type": "scatter",
         "x": [
          90
         ],
         "xaxis": "x",
         "y": [
          85
         ],
         "yaxis": "y"
        },
        {
         "hovertemplate": "<b>%{hovertext}</b><br><br>Type_1=Ground<br>Legendary_Type=Non-Legendary<br>Attack=%{x}<br>Defense=%{y}<br>HP=%{marker.size}<extra></extra>",
         "hovertext": [
          "Sandshrew",
          "Sandslash",
          "Diglett",
          "Dugtrio",
          "Cubone",
          "Marowak",
          "Rhyhorn",
          "Rhydon"
         ],
         "legendgroup": "Ground, Non-Legendary",
         "marker": {
          "color": "#B6E880",
          "size": [
           50,
           75,
           10,
           35,
           50,
           60,
           80,
           105
          ],
          "sizemode": "area",
          "sizeref": 0.625,
          "symbol": "circle"
         },
         "mode": "markers",
         "name": "Ground, Non-Legendary",
         "orientation": "v",
         "showlegend": true,
         "type": "scatter",
         "x": [
          75,
          100,
          55,
          80,
          50,
          80,
          85,
          130
         ],
         "xaxis": "x",
         "y": [
          85,
          110,
          25,
          50,
          95,
          110,
          95,
          120
         ],
         "yaxis": "y"
        },
        {
         "hovertemplate": "<b>%{hovertext}</b><br><br>Type_1=Fairy<br>Legendary_Type=Non-Legendary<br>Attack=%{x}<br>Defense=%{y}<br>HP=%{marker.size}<extra></extra>",
         "hovertext": [
          "Clefairy",
          "Clefable"
         ],
         "legendgroup": "Fairy, Non-Legendary",
         "marker": {
          "color": "#FF97FF",
          "size": [
           70,
           95
          ],
          "sizemode": "area",
          "sizeref": 0.625,
          "symbol": "circle"
         },
         "mode": "markers",
         "name": "Fairy, Non-Legendary",
         "orientation": "v",
         "showlegend": true,
         "type": "scatter",
         "x": [
          45,
          70
         ],
         "xaxis": "x",
         "y": [
          48,
          73
         ],
         "yaxis": "y"
        },
        {
         "hovertemplate": "<b>%{hovertext}</b><br><br>Type_1=Fighting<br>Legendary_Type=Non-Legendary<br>Attack=%{x}<br>Defense=%{y}<br>HP=%{marker.size}<extra></extra>",
         "hovertext": [
          "Mankey",
          "Primeape",
          "Machop",
          "Machoke",
          "Machamp",
          "Hitmonlee",
          "Hitmonchan"
         ],
         "legendgroup": "Fighting, Non-Legendary",
         "marker": {
          "color": "#FECB52",
          "size": [
           40,
           65,
           70,
           80,
           90,
           50,
           50
          ],
          "sizemode": "area",
          "sizeref": 0.625,
          "symbol": "circle"
         },
         "mode": "markers",
         "name": "Fighting, Non-Legendary",
         "orientation": "v",
         "showlegend": true,
         "type": "scatter",
         "x": [
          80,
          105,
          80,
          100,
          130,
          120,
          105
         ],
         "xaxis": "x",
         "y": [
          35,
          60,
          50,
          70,
          80,
          53,
          79
         ],
         "yaxis": "y"
        },
        {
         "hovertemplate": "<b>%{hovertext}</b><br><br>Type_1=Psychic<br>Legendary_Type=Non-Legendary<br>Attack=%{x}<br>Defense=%{y}<br>HP=%{marker.size}<extra></extra>",
         "hovertext": [
          "Abra",
          "Kadabra",
          "Alakazam",
          "Drowzee",
          "Hypno",
          "Mr. Mime",
          "Mew"
         ],
         "legendgroup": "Psychic, Non-Legendary",
         "marker": {
          "color": "#636efa",
          "size": [
           25,
           40,
           55,
           60,
           85,
           40,
           100
          ],
          "sizemode": "area",
          "sizeref": 0.625,
          "symbol": "circle"
         },
         "mode": "markers",
         "name": "Psychic, Non-Legendary",
         "orientation": "v",
         "showlegend": true,
         "type": "scatter",
         "x": [
          20,
          35,
          50,
          48,
          73,
          45,
          100
         ],
         "xaxis": "x",
         "y": [
          15,
          30,
          45,
          45,
          70,
          65,
          100
         ],
         "yaxis": "y"
        },
        {
         "hovertemplate": "<b>%{hovertext}</b><br><br>Type_1=Psychic<br>Legendary_Type=Legendary<br>Attack=%{x}<br>Defense=%{y}<br>HP=%{marker.size}<extra></extra>",
         "hovertext": [
          "Mewtwo"
         ],
         "legendgroup": "Psychic, Legendary",
         "marker": {
          "color": "#636efa",
          "size": [
           106
          ],
          "sizemode": "area",
          "sizeref": 0.625,
          "symbol": "star"
         },
         "mode": "markers",
         "name": "Psychic, Legendary",
         "orientation": "v",
         "showlegend": true,
         "type": "scatter",
         "x": [
          110
         ],
         "xaxis": "x",
         "y": [
          90
         ],
         "yaxis": "y"
        },
        {
         "hovertemplate": "<b>%{hovertext}</b><br><br>Type_1=Rock<br>Legendary_Type=Non-Legendary<br>Attack=%{x}<br>Defense=%{y}<br>HP=%{marker.size}<extra></extra>",
         "hovertext": [
          "Geodude",
          "Graveler",
          "Golem",
          "Onix",
          "Omanyte",
          "Omastar",
          "Kabuto",
          "Kabutops",
          "Aerodactyl"
         ],
         "legendgroup": "Rock, Non-Legendary",
         "marker": {
          "color": "#EF553B",
          "size": [
           40,
           55,
           80,
           35,
           35,
           70,
           30,
           60,
           80
          ],
          "sizemode": "area",
          "sizeref": 0.625,
          "symbol": "circle"
         },
         "mode": "markers",
         "name": "Rock, Non-Legendary",
         "orientation": "v",
         "showlegend": true,
         "type": "scatter",
         "x": [
          80,
          95,
          120,
          45,
          40,
          60,
          80,
          115,
          105
         ],
         "xaxis": "x",
         "y": [
          100,
          115,
          130,
          160,
          100,
          125,
          90,
          105,
          65
         ],
         "yaxis": "y"
        },
        {
         "hovertemplate": "<b>%{hovertext}</b><br><br>Type_1=Ghost<br>Legendary_Type=Non-Legendary<br>Attack=%{x}<br>Defense=%{y}<br>HP=%{marker.size}<extra></extra>",
         "hovertext": [
          "Gastly",
          "Haunter",
          "Gengar"
         ],
         "legendgroup": "Ghost, Non-Legendary",
         "marker": {
          "color": "#00cc96",
          "size": [
           30,
           45,
           60
          ],
          "sizemode": "area",
          "sizeref": 0.625,
          "symbol": "circle"
         },
         "mode": "markers",
         "name": "Ghost, Non-Legendary",
         "orientation": "v",
         "showlegend": true,
         "type": "scatter",
         "x": [
          35,
          50,
          65
         ],
         "xaxis": "x",
         "y": [
          30,
          45,
          60
         ],
         "yaxis": "y"
        },
        {
         "hovertemplate": "<b>%{hovertext}</b><br><br>Type_1=Ice<br>Legendary_Type=Non-Legendary<br>Attack=%{x}<br>Defense=%{y}<br>HP=%{marker.size}<extra></extra>",
         "hovertext": [
          "Jynx"
         ],
         "legendgroup": "Ice, Non-Legendary",
         "marker": {
          "color": "#ab63fa",
          "size": [
           65
          ],
          "sizemode": "area",
          "sizeref": 0.625,
          "symbol": "circle"
         },
         "mode": "markers",
         "name": "Ice, Non-Legendary",
         "orientation": "v",
         "showlegend": true,
         "type": "scatter",
         "x": [
          50
         ],
         "xaxis": "x",
         "y": [
          35
         ],
         "yaxis": "y"
        },
        {
         "hovertemplate": "<b>%{hovertext}</b><br><br>Type_1=Ice<br>Legendary_Type=Legendary<br>Attack=%{x}<br>Defense=%{y}<br>HP=%{marker.size}<extra></extra>",
         "hovertext": [
          "Articuno"
         ],
         "legendgroup": "Ice, Legendary",
         "marker": {
          "color": "#ab63fa",
          "size": [
           90
          ],
          "sizemode": "area",
          "sizeref": 0.625,
          "symbol": "star"
         },
         "mode": "markers",
         "name": "Ice, Legendary",
         "orientation": "v",
         "showlegend": true,
         "type": "scatter",
         "x": [
          85
         ],
         "xaxis": "x",
         "y": [
          100
         ],
         "yaxis": "y"
        },
        {
         "hovertemplate": "<b>%{hovertext}</b><br><br>Type_1=Dragon<br>Legendary_Type=Non-Legendary<br>Attack=%{x}<br>Defense=%{y}<br>HP=%{marker.size}<extra></extra>",
         "hovertext": [
          "Dratini",
          "Dragonair",
          "Dragonite"
         ],
         "legendgroup": "Dragon, Non-Legendary",
         "marker": {
          "color": "#FFA15A",
          "size": [
           41,
           61,
           91
          ],
          "sizemode": "area",
          "sizeref": 0.625,
          "symbol": "circle"
         },
         "mode": "markers",
         "name": "Dragon, Non-Legendary",
         "orientation": "v",
         "showlegend": true,
         "type": "scatter",
         "x": [
          64,
          84,
          134
         ],
         "xaxis": "x",
         "y": [
          45,
          65,
          95
         ],
         "yaxis": "y"
        }
       ],
       "layout": {
        "font": {
         "size": 13
        },
        "legend": {
         "itemsizing": "constant",
         "title": {
          "text": "Tipo de Pokémon"
         },
         "tracegroupgap": 0
        },
        "margin": {
         "t": 60
        },
        "template": {
         "data": {
          "bar": [
           {
            "error_x": {
             "color": "#2a3f5f"
            },
            "error_y": {
             "color": "#2a3f5f"
            },
            "marker": {
             "line": {
              "color": "#E5ECF6",
              "width": 0.5
             },
             "pattern": {
              "fillmode": "overlay",
              "size": 10,
              "solidity": 0.2
             }
            },
            "type": "bar"
           }
          ],
          "barpolar": [
           {
            "marker": {
             "line": {
              "color": "#E5ECF6",
              "width": 0.5
             },
             "pattern": {
              "fillmode": "overlay",
              "size": 10,
              "solidity": 0.2
             }
            },
            "type": "barpolar"
           }
          ],
          "carpet": [
           {
            "aaxis": {
             "endlinecolor": "#2a3f5f",
             "gridcolor": "white",
             "linecolor": "white",
             "minorgridcolor": "white",
             "startlinecolor": "#2a3f5f"
            },
            "baxis": {
             "endlinecolor": "#2a3f5f",
             "gridcolor": "white",
             "linecolor": "white",
             "minorgridcolor": "white",
             "startlinecolor": "#2a3f5f"
            },
            "type": "carpet"
           }
          ],
          "choropleth": [
           {
            "colorbar": {
             "outlinewidth": 0,
             "ticks": ""
            },
            "type": "choropleth"
           }
          ],
          "contour": [
           {
            "colorbar": {
             "outlinewidth": 0,
             "ticks": ""
            },
            "colorscale": [
             [
              0,
              "#0d0887"
             ],
             [
              0.1111111111111111,
              "#46039f"
             ],
             [
              0.2222222222222222,
              "#7201a8"
             ],
             [
              0.3333333333333333,
              "#9c179e"
             ],
             [
              0.4444444444444444,
              "#bd3786"
             ],
             [
              0.5555555555555556,
              "#d8576b"
             ],
             [
              0.6666666666666666,
              "#ed7953"
             ],
             [
              0.7777777777777778,
              "#fb9f3a"
             ],
             [
              0.8888888888888888,
              "#fdca26"
             ],
             [
              1,
              "#f0f921"
             ]
            ],
            "type": "contour"
           }
          ],
          "contourcarpet": [
           {
            "colorbar": {
             "outlinewidth": 0,
             "ticks": ""
            },
            "type": "contourcarpet"
           }
          ],
          "heatmap": [
           {
            "colorbar": {
             "outlinewidth": 0,
             "ticks": ""
            },
            "colorscale": [
             [
              0,
              "#0d0887"
             ],
             [
              0.1111111111111111,
              "#46039f"
             ],
             [
              0.2222222222222222,
              "#7201a8"
             ],
             [
              0.3333333333333333,
              "#9c179e"
             ],
             [
              0.4444444444444444,
              "#bd3786"
             ],
             [
              0.5555555555555556,
              "#d8576b"
             ],
             [
              0.6666666666666666,
              "#ed7953"
             ],
             [
              0.7777777777777778,
              "#fb9f3a"
             ],
             [
              0.8888888888888888,
              "#fdca26"
             ],
             [
              1,
              "#f0f921"
             ]
            ],
            "type": "heatmap"
           }
          ],
          "heatmapgl": [
           {
            "colorbar": {
             "outlinewidth": 0,
             "ticks": ""
            },
            "colorscale": [
             [
              0,
              "#0d0887"
             ],
             [
              0.1111111111111111,
              "#46039f"
             ],
             [
              0.2222222222222222,
              "#7201a8"
             ],
             [
              0.3333333333333333,
              "#9c179e"
             ],
             [
              0.4444444444444444,
              "#bd3786"
             ],
             [
              0.5555555555555556,
              "#d8576b"
             ],
             [
              0.6666666666666666,
              "#ed7953"
             ],
             [
              0.7777777777777778,
              "#fb9f3a"
             ],
             [
              0.8888888888888888,
              "#fdca26"
             ],
             [
              1,
              "#f0f921"
             ]
            ],
            "type": "heatmapgl"
           }
          ],
          "histogram": [
           {
            "marker": {
             "pattern": {
              "fillmode": "overlay",
              "size": 10,
              "solidity": 0.2
             }
            },
            "type": "histogram"
           }
          ],
          "histogram2d": [
           {
            "colorbar": {
             "outlinewidth": 0,
             "ticks": ""
            },
            "colorscale": [
             [
              0,
              "#0d0887"
             ],
             [
              0.1111111111111111,
              "#46039f"
             ],
             [
              0.2222222222222222,
              "#7201a8"
             ],
             [
              0.3333333333333333,
              "#9c179e"
             ],
             [
              0.4444444444444444,
              "#bd3786"
             ],
             [
              0.5555555555555556,
              "#d8576b"
             ],
             [
              0.6666666666666666,
              "#ed7953"
             ],
             [
              0.7777777777777778,
              "#fb9f3a"
             ],
             [
              0.8888888888888888,
              "#fdca26"
             ],
             [
              1,
              "#f0f921"
             ]
            ],
            "type": "histogram2d"
           }
          ],
          "histogram2dcontour": [
           {
            "colorbar": {
             "outlinewidth": 0,
             "ticks": ""
            },
            "colorscale": [
             [
              0,
              "#0d0887"
             ],
             [
              0.1111111111111111,
              "#46039f"
             ],
             [
              0.2222222222222222,
              "#7201a8"
             ],
             [
              0.3333333333333333,
              "#9c179e"
             ],
             [
              0.4444444444444444,
              "#bd3786"
             ],
             [
              0.5555555555555556,
              "#d8576b"
             ],
             [
              0.6666666666666666,
              "#ed7953"
             ],
             [
              0.7777777777777778,
              "#fb9f3a"
             ],
             [
              0.8888888888888888,
              "#fdca26"
             ],
             [
              1,
              "#f0f921"
             ]
            ],
            "type": "histogram2dcontour"
           }
          ],
          "mesh3d": [
           {
            "colorbar": {
             "outlinewidth": 0,
             "ticks": ""
            },
            "type": "mesh3d"
           }
          ],
          "parcoords": [
           {
            "line": {
             "colorbar": {
              "outlinewidth": 0,
              "ticks": ""
             }
            },
            "type": "parcoords"
           }
          ],
          "pie": [
           {
            "automargin": true,
            "type": "pie"
           }
          ],
          "scatter": [
           {
            "fillpattern": {
             "fillmode": "overlay",
             "size": 10,
             "solidity": 0.2
            },
            "type": "scatter"
           }
          ],
          "scatter3d": [
           {
            "line": {
             "colorbar": {
              "outlinewidth": 0,
              "ticks": ""
             }
            },
            "marker": {
             "colorbar": {
              "outlinewidth": 0,
              "ticks": ""
             }
            },
            "type": "scatter3d"
           }
          ],
          "scattercarpet": [
           {
            "marker": {
             "colorbar": {
              "outlinewidth": 0,
              "ticks": ""
             }
            },
            "type": "scattercarpet"
           }
          ],
          "scattergeo": [
           {
            "marker": {
             "colorbar": {
              "outlinewidth": 0,
              "ticks": ""
             }
            },
            "type": "scattergeo"
           }
          ],
          "scattergl": [
           {
            "marker": {
             "colorbar": {
              "outlinewidth": 0,
              "ticks": ""
             }
            },
            "type": "scattergl"
           }
          ],
          "scattermapbox": [
           {
            "marker": {
             "colorbar": {
              "outlinewidth": 0,
              "ticks": ""
             }
            },
            "type": "scattermapbox"
           }
          ],
          "scatterpolar": [
           {
            "marker": {
             "colorbar": {
              "outlinewidth": 0,
              "ticks": ""
             }
            },
            "type": "scatterpolar"
           }
          ],
          "scatterpolargl": [
           {
            "marker": {
             "colorbar": {
              "outlinewidth": 0,
              "ticks": ""
             }
            },
            "type": "scatterpolargl"
           }
          ],
          "scatterternary": [
           {
            "marker": {
             "colorbar": {
              "outlinewidth": 0,
              "ticks": ""
             }
            },
            "type": "scatterternary"
           }
          ],
          "surface": [
           {
            "colorbar": {
             "outlinewidth": 0,
             "ticks": ""
            },
            "colorscale": [
             [
              0,
              "#0d0887"
             ],
             [
              0.1111111111111111,
              "#46039f"
             ],
             [
              0.2222222222222222,
              "#7201a8"
             ],
             [
              0.3333333333333333,
              "#9c179e"
             ],
             [
              0.4444444444444444,
              "#bd3786"
             ],
             [
              0.5555555555555556,
              "#d8576b"
             ],
             [
              0.6666666666666666,
              "#ed7953"
             ],
             [
              0.7777777777777778,
              "#fb9f3a"
             ],
             [
              0.8888888888888888,
              "#fdca26"
             ],
             [
              1,
              "#f0f921"
             ]
            ],
            "type": "surface"
           }
          ],
          "table": [
           {
            "cells": {
             "fill": {
              "color": "#EBF0F8"
             },
             "line": {
              "color": "white"
             }
            },
            "header": {
             "fill": {
              "color": "#C8D4E3"
             },
             "line": {
              "color": "white"
             }
            },
            "type": "table"
           }
          ]
         },
         "layout": {
          "annotationdefaults": {
           "arrowcolor": "#2a3f5f",
           "arrowhead": 0,
           "arrowwidth": 1
          },
          "autotypenumbers": "strict",
          "coloraxis": {
           "colorbar": {
            "outlinewidth": 0,
            "ticks": ""
           }
          },
          "colorscale": {
           "diverging": [
            [
             0,
             "#8e0152"
            ],
            [
             0.1,
             "#c51b7d"
            ],
            [
             0.2,
             "#de77ae"
            ],
            [
             0.3,
             "#f1b6da"
            ],
            [
             0.4,
             "#fde0ef"
            ],
            [
             0.5,
             "#f7f7f7"
            ],
            [
             0.6,
             "#e6f5d0"
            ],
            [
             0.7,
             "#b8e186"
            ],
            [
             0.8,
             "#7fbc41"
            ],
            [
             0.9,
             "#4d9221"
            ],
            [
             1,
             "#276419"
            ]
           ],
           "sequential": [
            [
             0,
             "#0d0887"
            ],
            [
             0.1111111111111111,
             "#46039f"
            ],
            [
             0.2222222222222222,
             "#7201a8"
            ],
            [
             0.3333333333333333,
             "#9c179e"
            ],
            [
             0.4444444444444444,
             "#bd3786"
            ],
            [
             0.5555555555555556,
             "#d8576b"
            ],
            [
             0.6666666666666666,
             "#ed7953"
            ],
            [
             0.7777777777777778,
             "#fb9f3a"
            ],
            [
             0.8888888888888888,
             "#fdca26"
            ],
            [
             1,
             "#f0f921"
            ]
           ],
           "sequentialminus": [
            [
             0,
             "#0d0887"
            ],
            [
             0.1111111111111111,
             "#46039f"
            ],
            [
             0.2222222222222222,
             "#7201a8"
            ],
            [
             0.3333333333333333,
             "#9c179e"
            ],
            [
             0.4444444444444444,
             "#bd3786"
            ],
            [
             0.5555555555555556,
             "#d8576b"
            ],
            [
             0.6666666666666666,
             "#ed7953"
            ],
            [
             0.7777777777777778,
             "#fb9f3a"
            ],
            [
             0.8888888888888888,
             "#fdca26"
            ],
            [
             1,
             "#f0f921"
            ]
           ]
          },
          "colorway": [
           "#636efa",
           "#EF553B",
           "#00cc96",
           "#ab63fa",
           "#FFA15A",
           "#19d3f3",
           "#FF6692",
           "#B6E880",
           "#FF97FF",
           "#FECB52"
          ],
          "font": {
           "color": "#2a3f5f"
          },
          "geo": {
           "bgcolor": "white",
           "lakecolor": "white",
           "landcolor": "#E5ECF6",
           "showlakes": true,
           "showland": true,
           "subunitcolor": "white"
          },
          "hoverlabel": {
           "align": "left"
          },
          "hovermode": "closest",
          "mapbox": {
           "style": "light"
          },
          "paper_bgcolor": "white",
          "plot_bgcolor": "#E5ECF6",
          "polar": {
           "angularaxis": {
            "gridcolor": "white",
            "linecolor": "white",
            "ticks": ""
           },
           "bgcolor": "#E5ECF6",
           "radialaxis": {
            "gridcolor": "white",
            "linecolor": "white",
            "ticks": ""
           }
          },
          "scene": {
           "xaxis": {
            "backgroundcolor": "#E5ECF6",
            "gridcolor": "white",
            "gridwidth": 2,
            "linecolor": "white",
            "showbackground": true,
            "ticks": "",
            "zerolinecolor": "white"
           },
           "yaxis": {
            "backgroundcolor": "#E5ECF6",
            "gridcolor": "white",
            "gridwidth": 2,
            "linecolor": "white",
            "showbackground": true,
            "ticks": "",
            "zerolinecolor": "white"
           },
           "zaxis": {
            "backgroundcolor": "#E5ECF6",
            "gridcolor": "white",
            "gridwidth": 2,
            "linecolor": "white",
            "showbackground": true,
            "ticks": "",
            "zerolinecolor": "white"
           }
          },
          "shapedefaults": {
           "line": {
            "color": "#2a3f5f"
           }
          },
          "ternary": {
           "aaxis": {
            "gridcolor": "white",
            "linecolor": "white",
            "ticks": ""
           },
           "baxis": {
            "gridcolor": "white",
            "linecolor": "white",
            "ticks": ""
           },
           "bgcolor": "#E5ECF6",
           "caxis": {
            "gridcolor": "white",
            "linecolor": "white",
            "ticks": ""
           }
          },
          "title": {
           "x": 0.05
          },
          "xaxis": {
           "automargin": true,
           "gridcolor": "white",
           "linecolor": "white",
           "ticks": "",
           "title": {
            "standoff": 15
           },
           "zerolinecolor": "white",
           "zerolinewidth": 2
          },
          "yaxis": {
           "automargin": true,
           "gridcolor": "white",
           "linecolor": "white",
           "ticks": "",
           "title": {
            "standoff": 15
           },
           "zerolinecolor": "white",
           "zerolinewidth": 2
          }
         }
        },
        "title": {
         "text": "Relación entre Ataque y Defensa en Pokémon de la Generación 1"
        },
        "xaxis": {
         "anchor": "y",
         "domain": [
          0,
          1
         ],
         "title": {
          "text": "Ataque"
         }
        },
        "yaxis": {
         "anchor": "x",
         "domain": [
          0,
          1
         ],
         "title": {
          "text": "Defensa"
         }
        }
       }
      }
     },
     "metadata": {},
     "output_type": "display_data"
    }
   ],
   "source": [
    "fig = px.scatter(\n",
    "    data_frame=df_gen_1,\n",
    "    x='Attack',\n",
    "    y='Defense',\n",
    "    color='Type_1',\n",
    "    size='HP',\n",
    "    hover_name = 'Name',\n",
    "    symbol='Legendary_Type',\n",
    "    symbol_map={\n",
    "        'Legendary': 'star',\n",
    "        'Non-Legendary': 'circle'\n",
    "    }\n",
    ")\n",
    "\n",
    "fig.update_layout(\n",
    "    title = 'Relación entre Ataque y Defensa en Pokémon de la Generación 1',\n",
    "    xaxis_title = 'Ataque',\n",
    "    yaxis_title = 'Defensa',\n",
    "    legend_title = 'Tipo de Pokémon',\n",
    "    font = dict(size=13)\n",
    ")\n",
    "\n",
    "fig.show()"
   ]
  },
  {
   "cell_type": "markdown",
   "id": "cffbf8a3",
   "metadata": {},
   "source": [
    "#### **Scatterplot - Lineas de Referencia**"
   ]
  },
  {
   "cell_type": "code",
   "execution_count": 67,
   "id": "a8851b6f",
   "metadata": {},
   "outputs": [
    {
     "data": {
      "application/vnd.plotly.v1+json": {
       "config": {
        "plotlyServerURL": "https://plot.ly"
       },
       "data": [
        {
         "hovertemplate": "<b>%{hovertext}</b><br><br>Type_1=Grass<br>Legendary_Type=Non-Legendary<br>Attack=%{x}<br>Defense=%{y}<br>HP=%{marker.size}<extra></extra>",
         "hovertext": [
          "Bulbasaur",
          "Ivysaur",
          "Venusaur",
          "Oddish",
          "Gloom",
          "Vileplume",
          "Bellsprout",
          "Weepinbell",
          "Victreebel",
          "Exeggcute",
          "Exeggutor",
          "Tangela"
         ],
         "legendgroup": "Grass, Non-Legendary",
         "marker": {
          "color": "#636efa",
          "size": [
           45,
           60,
           80,
           45,
           60,
           75,
           50,
           65,
           80,
           60,
           95,
           65
          ],
          "sizemode": "area",
          "sizeref": 0.625,
          "symbol": "circle"
         },
         "mode": "markers",
         "name": "Grass, Non-Legendary",
         "orientation": "v",
         "showlegend": true,
         "type": "scatter",
         "x": [
          49,
          62,
          82,
          50,
          65,
          80,
          75,
          90,
          105,
          40,
          95,
          55
         ],
         "xaxis": "x",
         "y": [
          49,
          63,
          83,
          55,
          70,
          85,
          35,
          50,
          65,
          80,
          85,
          115
         ],
         "yaxis": "y"
        },
        {
         "hovertemplate": "<b>%{hovertext}</b><br><br>Type_1=Fire<br>Legendary_Type=Non-Legendary<br>Attack=%{x}<br>Defense=%{y}<br>HP=%{marker.size}<extra></extra>",
         "hovertext": [
          "Charmander",
          "Charmeleon",
          "Charizard",
          "Vulpix",
          "Ninetales",
          "Growlithe",
          "Arcanine",
          "Ponyta",
          "Rapidash",
          "Magmar",
          "Flareon"
         ],
         "legendgroup": "Fire, Non-Legendary",
         "marker": {
          "color": "#EF553B",
          "size": [
           39,
           58,
           78,
           38,
           73,
           55,
           90,
           50,
           65,
           65,
           65
          ],
          "sizemode": "area",
          "sizeref": 0.625,
          "symbol": "circle"
         },
         "mode": "markers",
         "name": "Fire, Non-Legendary",
         "orientation": "v",
         "showlegend": true,
         "type": "scatter",
         "x": [
          52,
          64,
          84,
          41,
          76,
          70,
          110,
          85,
          100,
          95,
          130
         ],
         "xaxis": "x",
         "y": [
          43,
          58,
          78,
          40,
          75,
          45,
          80,
          55,
          70,
          57,
          60
         ],
         "yaxis": "y"
        },
        {
         "hovertemplate": "<b>%{hovertext}</b><br><br>Type_1=Fire<br>Legendary_Type=Legendary<br>Attack=%{x}<br>Defense=%{y}<br>HP=%{marker.size}<extra></extra>",
         "hovertext": [
          "Moltres"
         ],
         "legendgroup": "Fire, Legendary",
         "marker": {
          "color": "#EF553B",
          "size": [
           90
          ],
          "sizemode": "area",
          "sizeref": 0.625,
          "symbol": "star"
         },
         "mode": "markers",
         "name": "Fire, Legendary",
         "orientation": "v",
         "showlegend": true,
         "type": "scatter",
         "x": [
          100
         ],
         "xaxis": "x",
         "y": [
          90
         ],
         "yaxis": "y"
        },
        {
         "hovertemplate": "<b>%{hovertext}</b><br><br>Type_1=Water<br>Legendary_Type=Non-Legendary<br>Attack=%{x}<br>Defense=%{y}<br>HP=%{marker.size}<extra></extra>",
         "hovertext": [
          "Squirtle",
          "Wartortle",
          "Blastoise",
          "Psyduck",
          "Golduck",
          "Poliwag",
          "Poliwhirl",
          "Poliwrath",
          "Tentacool",
          "Tentacruel",
          "Slowpoke",
          "Slowbro",
          "Seel",
          "Dewgong",
          "Shellder",
          "Cloyster",
          "Krabby",
          "Kingler",
          "Horsea",
          "Seadra",
          "Goldeen",
          "Seaking",
          "Staryu",
          "Starmie",
          "Magikarp",
          "Gyarados",
          "Lapras",
          "Vaporeon"
         ],
         "legendgroup": "Water, Non-Legendary",
         "marker": {
          "color": "#00cc96",
          "size": [
           44,
           59,
           79,
           50,
           80,
           40,
           65,
           90,
           40,
           80,
           90,
           95,
           65,
           90,
           30,
           50,
           30,
           55,
           30,
           55,
           45,
           80,
           30,
           60,
           20,
           95,
           130,
           130
          ],
          "sizemode": "area",
          "sizeref": 0.625,
          "symbol": "circle"
         },
         "mode": "markers",
         "name": "Water, Non-Legendary",
         "orientation": "v",
         "showlegend": true,
         "type": "scatter",
         "x": [
          48,
          63,
          83,
          52,
          82,
          50,
          65,
          95,
          40,
          70,
          65,
          75,
          45,
          70,
          65,
          95,
          105,
          130,
          40,
          65,
          67,
          92,
          45,
          75,
          10,
          125,
          85,
          65
         ],
         "xaxis": "x",
         "y": [
          65,
          80,
          100,
          48,
          78,
          40,
          65,
          95,
          35,
          65,
          65,
          110,
          55,
          80,
          100,
          180,
          90,
          115,
          70,
          95,
          60,
          65,
          55,
          85,
          55,
          79,
          80,
          60
         ],
         "yaxis": "y"
        },
        {
         "hovertemplate": "<b>%{hovertext}</b><br><br>Type_1=Bug<br>Legendary_Type=Non-Legendary<br>Attack=%{x}<br>Defense=%{y}<br>HP=%{marker.size}<extra></extra>",
         "hovertext": [
          "Caterpie",
          "Metapod",
          "Butterfree",
          "Weedle",
          "Kakuna",
          "Beedrill",
          "Paras",
          "Parasect",
          "Venonat",
          "Venomoth",
          "Scyther",
          "Pinsir"
         ],
         "legendgroup": "Bug, Non-Legendary",
         "marker": {
          "color": "#ab63fa",
          "size": [
           45,
           50,
           60,
           40,
           45,
           65,
           35,
           60,
           60,
           70,
           70,
           65
          ],
          "sizemode": "area",
          "sizeref": 0.625,
          "symbol": "circle"
         },
         "mode": "markers",
         "name": "Bug, Non-Legendary",
         "orientation": "v",
         "showlegend": true,
         "type": "scatter",
         "x": [
          30,
          20,
          45,
          35,
          25,
          90,
          70,
          95,
          55,
          65,
          110,
          125
         ],
         "xaxis": "x",
         "y": [
          35,
          55,
          50,
          30,
          50,
          40,
          55,
          80,
          50,
          60,
          80,
          100
         ],
         "yaxis": "y"
        },
        {
         "hovertemplate": "<b>%{hovertext}</b><br><br>Type_1=Normal<br>Legendary_Type=Non-Legendary<br>Attack=%{x}<br>Defense=%{y}<br>HP=%{marker.size}<extra></extra>",
         "hovertext": [
          "Pidgey",
          "Pidgeotto",
          "Pidgeot",
          "Rattata",
          "Raticate",
          "Spearow",
          "Fearow",
          "Jigglypuff",
          "Wigglytuff",
          "Meowth",
          "Persian",
          "Farfetch'd",
          "Doduo",
          "Dodrio",
          "Lickitung",
          "Chansey",
          "Kangaskhan",
          "Tauros",
          "Ditto",
          "Eevee",
          "Porygon",
          "Snorlax"
         ],
         "legendgroup": "Normal, Non-Legendary",
         "marker": {
          "color": "#FFA15A",
          "size": [
           40,
           63,
           83,
           30,
           55,
           40,
           65,
           115,
           140,
           40,
           65,
           52,
           35,
           60,
           90,
           250,
           105,
           75,
           48,
           55,
           65,
           160
          ],
          "sizemode": "area",
          "sizeref": 0.625,
          "symbol": "circle"
         },
         "mode": "markers",
         "name": "Normal, Non-Legendary",
         "orientation": "v",
         "showlegend": true,
         "type": "scatter",
         "x": [
          45,
          60,
          80,
          56,
          81,
          60,
          90,
          45,
          70,
          45,
          70,
          65,
          85,
          110,
          55,
          5,
          95,
          100,
          48,
          55,
          60,
          110
         ],
         "xaxis": "x",
         "y": [
          40,
          55,
          75,
          35,
          60,
          30,
          65,
          20,
          45,
          35,
          60,
          55,
          45,
          70,
          75,
          5,
          80,
          95,
          48,
          50,
          70,
          65
         ],
         "yaxis": "y"
        },
        {
         "hovertemplate": "<b>%{hovertext}</b><br><br>Type_1=Poison<br>Legendary_Type=Non-Legendary<br>Attack=%{x}<br>Defense=%{y}<br>HP=%{marker.size}<extra></extra>",
         "hovertext": [
          "Ekans",
          "Arbok",
          "Nidoran♀",
          "Nidorina",
          "Nidoqueen",
          "Nidoran♂",
          "Nidorino",
          "Nidoking",
          "Zubat",
          "Golbat",
          "Grimer",
          "Muk",
          "Koffing",
          "Weezing"
         ],
         "legendgroup": "Poison, Non-Legendary",
         "marker": {
          "color": "#19d3f3",
          "size": [
           35,
           60,
           55,
           70,
           90,
           46,
           61,
           81,
           40,
           75,
           80,
           105,
           40,
           65
          ],
          "sizemode": "area",
          "sizeref": 0.625,
          "symbol": "circle"
         },
         "mode": "markers",
         "name": "Poison, Non-Legendary",
         "orientation": "v",
         "showlegend": true,
         "type": "scatter",
         "x": [
          60,
          85,
          47,
          62,
          92,
          57,
          72,
          102,
          45,
          80,
          80,
          105,
          65,
          90
         ],
         "xaxis": "x",
         "y": [
          44,
          69,
          52,
          67,
          87,
          40,
          57,
          77,
          35,
          70,
          50,
          75,
          95,
          120
         ],
         "yaxis": "y"
        },
        {
         "hovertemplate": "<b>%{hovertext}</b><br><br>Type_1=Electric<br>Legendary_Type=Non-Legendary<br>Attack=%{x}<br>Defense=%{y}<br>HP=%{marker.size}<extra></extra>",
         "hovertext": [
          "Pikachu",
          "Raichu",
          "Magnemite",
          "Magneton",
          "Voltorb",
          "Electrode",
          "Electabuzz",
          "Jolteon"
         ],
         "legendgroup": "Electric, Non-Legendary",
         "marker": {
          "color": "#FF6692",
          "size": [
           35,
           60,
           25,
           50,
           40,
           60,
           65,
           65
          ],
          "sizemode": "area",
          "sizeref": 0.625,
          "symbol": "circle"
         },
         "mode": "markers",
         "name": "Electric, Non-Legendary",
         "orientation": "v",
         "showlegend": true,
         "type": "scatter",
         "x": [
          55,
          90,
          35,
          60,
          30,
          50,
          83,
          65
         ],
         "xaxis": "x",
         "y": [
          40,
          55,
          70,
          95,
          50,
          70,
          57,
          60
         ],
         "yaxis": "y"
        },
        {
         "hovertemplate": "<b>%{hovertext}</b><br><br>Type_1=Electric<br>Legendary_Type=Legendary<br>Attack=%{x}<br>Defense=%{y}<br>HP=%{marker.size}<extra></extra>",
         "hovertext": [
          "Zapdos"
         ],
         "legendgroup": "Electric, Legendary",
         "marker": {
          "color": "#FF6692",
          "size": [
           90
          ],
          "sizemode": "area",
          "sizeref": 0.625,
          "symbol": "star"
         },
         "mode": "markers",
         "name": "Electric, Legendary",
         "orientation": "v",
         "showlegend": true,
         "type": "scatter",
         "x": [
          90
         ],
         "xaxis": "x",
         "y": [
          85
         ],
         "yaxis": "y"
        },
        {
         "hovertemplate": "<b>%{hovertext}</b><br><br>Type_1=Ground<br>Legendary_Type=Non-Legendary<br>Attack=%{x}<br>Defense=%{y}<br>HP=%{marker.size}<extra></extra>",
         "hovertext": [
          "Sandshrew",
          "Sandslash",
          "Diglett",
          "Dugtrio",
          "Cubone",
          "Marowak",
          "Rhyhorn",
          "Rhydon"
         ],
         "legendgroup": "Ground, Non-Legendary",
         "marker": {
          "color": "#B6E880",
          "size": [
           50,
           75,
           10,
           35,
           50,
           60,
           80,
           105
          ],
          "sizemode": "area",
          "sizeref": 0.625,
          "symbol": "circle"
         },
         "mode": "markers",
         "name": "Ground, Non-Legendary",
         "orientation": "v",
         "showlegend": true,
         "type": "scatter",
         "x": [
          75,
          100,
          55,
          80,
          50,
          80,
          85,
          130
         ],
         "xaxis": "x",
         "y": [
          85,
          110,
          25,
          50,
          95,
          110,
          95,
          120
         ],
         "yaxis": "y"
        },
        {
         "hovertemplate": "<b>%{hovertext}</b><br><br>Type_1=Fairy<br>Legendary_Type=Non-Legendary<br>Attack=%{x}<br>Defense=%{y}<br>HP=%{marker.size}<extra></extra>",
         "hovertext": [
          "Clefairy",
          "Clefable"
         ],
         "legendgroup": "Fairy, Non-Legendary",
         "marker": {
          "color": "#FF97FF",
          "size": [
           70,
           95
          ],
          "sizemode": "area",
          "sizeref": 0.625,
          "symbol": "circle"
         },
         "mode": "markers",
         "name": "Fairy, Non-Legendary",
         "orientation": "v",
         "showlegend": true,
         "type": "scatter",
         "x": [
          45,
          70
         ],
         "xaxis": "x",
         "y": [
          48,
          73
         ],
         "yaxis": "y"
        },
        {
         "hovertemplate": "<b>%{hovertext}</b><br><br>Type_1=Fighting<br>Legendary_Type=Non-Legendary<br>Attack=%{x}<br>Defense=%{y}<br>HP=%{marker.size}<extra></extra>",
         "hovertext": [
          "Mankey",
          "Primeape",
          "Machop",
          "Machoke",
          "Machamp",
          "Hitmonlee",
          "Hitmonchan"
         ],
         "legendgroup": "Fighting, Non-Legendary",
         "marker": {
          "color": "#FECB52",
          "size": [
           40,
           65,
           70,
           80,
           90,
           50,
           50
          ],
          "sizemode": "area",
          "sizeref": 0.625,
          "symbol": "circle"
         },
         "mode": "markers",
         "name": "Fighting, Non-Legendary",
         "orientation": "v",
         "showlegend": true,
         "type": "scatter",
         "x": [
          80,
          105,
          80,
          100,
          130,
          120,
          105
         ],
         "xaxis": "x",
         "y": [
          35,
          60,
          50,
          70,
          80,
          53,
          79
         ],
         "yaxis": "y"
        },
        {
         "hovertemplate": "<b>%{hovertext}</b><br><br>Type_1=Psychic<br>Legendary_Type=Non-Legendary<br>Attack=%{x}<br>Defense=%{y}<br>HP=%{marker.size}<extra></extra>",
         "hovertext": [
          "Abra",
          "Kadabra",
          "Alakazam",
          "Drowzee",
          "Hypno",
          "Mr. Mime",
          "Mew"
         ],
         "legendgroup": "Psychic, Non-Legendary",
         "marker": {
          "color": "#636efa",
          "size": [
           25,
           40,
           55,
           60,
           85,
           40,
           100
          ],
          "sizemode": "area",
          "sizeref": 0.625,
          "symbol": "circle"
         },
         "mode": "markers",
         "name": "Psychic, Non-Legendary",
         "orientation": "v",
         "showlegend": true,
         "type": "scatter",
         "x": [
          20,
          35,
          50,
          48,
          73,
          45,
          100
         ],
         "xaxis": "x",
         "y": [
          15,
          30,
          45,
          45,
          70,
          65,
          100
         ],
         "yaxis": "y"
        },
        {
         "hovertemplate": "<b>%{hovertext}</b><br><br>Type_1=Psychic<br>Legendary_Type=Legendary<br>Attack=%{x}<br>Defense=%{y}<br>HP=%{marker.size}<extra></extra>",
         "hovertext": [
          "Mewtwo"
         ],
         "legendgroup": "Psychic, Legendary",
         "marker": {
          "color": "#636efa",
          "size": [
           106
          ],
          "sizemode": "area",
          "sizeref": 0.625,
          "symbol": "star"
         },
         "mode": "markers",
         "name": "Psychic, Legendary",
         "orientation": "v",
         "showlegend": true,
         "type": "scatter",
         "x": [
          110
         ],
         "xaxis": "x",
         "y": [
          90
         ],
         "yaxis": "y"
        },
        {
         "hovertemplate": "<b>%{hovertext}</b><br><br>Type_1=Rock<br>Legendary_Type=Non-Legendary<br>Attack=%{x}<br>Defense=%{y}<br>HP=%{marker.size}<extra></extra>",
         "hovertext": [
          "Geodude",
          "Graveler",
          "Golem",
          "Onix",
          "Omanyte",
          "Omastar",
          "Kabuto",
          "Kabutops",
          "Aerodactyl"
         ],
         "legendgroup": "Rock, Non-Legendary",
         "marker": {
          "color": "#EF553B",
          "size": [
           40,
           55,
           80,
           35,
           35,
           70,
           30,
           60,
           80
          ],
          "sizemode": "area",
          "sizeref": 0.625,
          "symbol": "circle"
         },
         "mode": "markers",
         "name": "Rock, Non-Legendary",
         "orientation": "v",
         "showlegend": true,
         "type": "scatter",
         "x": [
          80,
          95,
          120,
          45,
          40,
          60,
          80,
          115,
          105
         ],
         "xaxis": "x",
         "y": [
          100,
          115,
          130,
          160,
          100,
          125,
          90,
          105,
          65
         ],
         "yaxis": "y"
        },
        {
         "hovertemplate": "<b>%{hovertext}</b><br><br>Type_1=Ghost<br>Legendary_Type=Non-Legendary<br>Attack=%{x}<br>Defense=%{y}<br>HP=%{marker.size}<extra></extra>",
         "hovertext": [
          "Gastly",
          "Haunter",
          "Gengar"
         ],
         "legendgroup": "Ghost, Non-Legendary",
         "marker": {
          "color": "#00cc96",
          "size": [
           30,
           45,
           60
          ],
          "sizemode": "area",
          "sizeref": 0.625,
          "symbol": "circle"
         },
         "mode": "markers",
         "name": "Ghost, Non-Legendary",
         "orientation": "v",
         "showlegend": true,
         "type": "scatter",
         "x": [
          35,
          50,
          65
         ],
         "xaxis": "x",
         "y": [
          30,
          45,
          60
         ],
         "yaxis": "y"
        },
        {
         "hovertemplate": "<b>%{hovertext}</b><br><br>Type_1=Ice<br>Legendary_Type=Non-Legendary<br>Attack=%{x}<br>Defense=%{y}<br>HP=%{marker.size}<extra></extra>",
         "hovertext": [
          "Jynx"
         ],
         "legendgroup": "Ice, Non-Legendary",
         "marker": {
          "color": "#ab63fa",
          "size": [
           65
          ],
          "sizemode": "area",
          "sizeref": 0.625,
          "symbol": "circle"
         },
         "mode": "markers",
         "name": "Ice, Non-Legendary",
         "orientation": "v",
         "showlegend": true,
         "type": "scatter",
         "x": [
          50
         ],
         "xaxis": "x",
         "y": [
          35
         ],
         "yaxis": "y"
        },
        {
         "hovertemplate": "<b>%{hovertext}</b><br><br>Type_1=Ice<br>Legendary_Type=Legendary<br>Attack=%{x}<br>Defense=%{y}<br>HP=%{marker.size}<extra></extra>",
         "hovertext": [
          "Articuno"
         ],
         "legendgroup": "Ice, Legendary",
         "marker": {
          "color": "#ab63fa",
          "size": [
           90
          ],
          "sizemode": "area",
          "sizeref": 0.625,
          "symbol": "star"
         },
         "mode": "markers",
         "name": "Ice, Legendary",
         "orientation": "v",
         "showlegend": true,
         "type": "scatter",
         "x": [
          85
         ],
         "xaxis": "x",
         "y": [
          100
         ],
         "yaxis": "y"
        },
        {
         "hovertemplate": "<b>%{hovertext}</b><br><br>Type_1=Dragon<br>Legendary_Type=Non-Legendary<br>Attack=%{x}<br>Defense=%{y}<br>HP=%{marker.size}<extra></extra>",
         "hovertext": [
          "Dratini",
          "Dragonair",
          "Dragonite"
         ],
         "legendgroup": "Dragon, Non-Legendary",
         "marker": {
          "color": "#FFA15A",
          "size": [
           41,
           61,
           91
          ],
          "sizemode": "area",
          "sizeref": 0.625,
          "symbol": "circle"
         },
         "mode": "markers",
         "name": "Dragon, Non-Legendary",
         "orientation": "v",
         "showlegend": true,
         "type": "scatter",
         "x": [
          64,
          84,
          134
         ],
         "xaxis": "x",
         "y": [
          45,
          65,
          95
         ],
         "yaxis": "y"
        }
       ],
       "layout": {
        "font": {
         "size": 13
        },
        "legend": {
         "itemsizing": "constant",
         "title": {
          "text": "Tipo de Pokémon"
         },
         "tracegroupgap": 0
        },
        "margin": {
         "t": 60
        },
        "shapes": [
         {
          "line": {
           "color": "red",
           "dash": "dash",
           "width": 1
          },
          "name": "Avg_attack",
          "type": "line",
          "x0": 72.54966887417218,
          "x1": 72.54966887417218,
          "y0": 0,
          "y1": 200
         },
         {
          "line": {
           "color": "green",
           "dash": "dash",
           "width": 1
          },
          "name": "Avg_attack",
          "type": "line",
          "x0": 0,
          "x1": 200,
          "y0": 68.2251655629139,
          "y1": 68.2251655629139
         }
        ],
        "template": {
         "data": {
          "bar": [
           {
            "error_x": {
             "color": "#2a3f5f"
            },
            "error_y": {
             "color": "#2a3f5f"
            },
            "marker": {
             "line": {
              "color": "#E5ECF6",
              "width": 0.5
             },
             "pattern": {
              "fillmode": "overlay",
              "size": 10,
              "solidity": 0.2
             }
            },
            "type": "bar"
           }
          ],
          "barpolar": [
           {
            "marker": {
             "line": {
              "color": "#E5ECF6",
              "width": 0.5
             },
             "pattern": {
              "fillmode": "overlay",
              "size": 10,
              "solidity": 0.2
             }
            },
            "type": "barpolar"
           }
          ],
          "carpet": [
           {
            "aaxis": {
             "endlinecolor": "#2a3f5f",
             "gridcolor": "white",
             "linecolor": "white",
             "minorgridcolor": "white",
             "startlinecolor": "#2a3f5f"
            },
            "baxis": {
             "endlinecolor": "#2a3f5f",
             "gridcolor": "white",
             "linecolor": "white",
             "minorgridcolor": "white",
             "startlinecolor": "#2a3f5f"
            },
            "type": "carpet"
           }
          ],
          "choropleth": [
           {
            "colorbar": {
             "outlinewidth": 0,
             "ticks": ""
            },
            "type": "choropleth"
           }
          ],
          "contour": [
           {
            "colorbar": {
             "outlinewidth": 0,
             "ticks": ""
            },
            "colorscale": [
             [
              0,
              "#0d0887"
             ],
             [
              0.1111111111111111,
              "#46039f"
             ],
             [
              0.2222222222222222,
              "#7201a8"
             ],
             [
              0.3333333333333333,
              "#9c179e"
             ],
             [
              0.4444444444444444,
              "#bd3786"
             ],
             [
              0.5555555555555556,
              "#d8576b"
             ],
             [
              0.6666666666666666,
              "#ed7953"
             ],
             [
              0.7777777777777778,
              "#fb9f3a"
             ],
             [
              0.8888888888888888,
              "#fdca26"
             ],
             [
              1,
              "#f0f921"
             ]
            ],
            "type": "contour"
           }
          ],
          "contourcarpet": [
           {
            "colorbar": {
             "outlinewidth": 0,
             "ticks": ""
            },
            "type": "contourcarpet"
           }
          ],
          "heatmap": [
           {
            "colorbar": {
             "outlinewidth": 0,
             "ticks": ""
            },
            "colorscale": [
             [
              0,
              "#0d0887"
             ],
             [
              0.1111111111111111,
              "#46039f"
             ],
             [
              0.2222222222222222,
              "#7201a8"
             ],
             [
              0.3333333333333333,
              "#9c179e"
             ],
             [
              0.4444444444444444,
              "#bd3786"
             ],
             [
              0.5555555555555556,
              "#d8576b"
             ],
             [
              0.6666666666666666,
              "#ed7953"
             ],
             [
              0.7777777777777778,
              "#fb9f3a"
             ],
             [
              0.8888888888888888,
              "#fdca26"
             ],
             [
              1,
              "#f0f921"
             ]
            ],
            "type": "heatmap"
           }
          ],
          "heatmapgl": [
           {
            "colorbar": {
             "outlinewidth": 0,
             "ticks": ""
            },
            "colorscale": [
             [
              0,
              "#0d0887"
             ],
             [
              0.1111111111111111,
              "#46039f"
             ],
             [
              0.2222222222222222,
              "#7201a8"
             ],
             [
              0.3333333333333333,
              "#9c179e"
             ],
             [
              0.4444444444444444,
              "#bd3786"
             ],
             [
              0.5555555555555556,
              "#d8576b"
             ],
             [
              0.6666666666666666,
              "#ed7953"
             ],
             [
              0.7777777777777778,
              "#fb9f3a"
             ],
             [
              0.8888888888888888,
              "#fdca26"
             ],
             [
              1,
              "#f0f921"
             ]
            ],
            "type": "heatmapgl"
           }
          ],
          "histogram": [
           {
            "marker": {
             "pattern": {
              "fillmode": "overlay",
              "size": 10,
              "solidity": 0.2
             }
            },
            "type": "histogram"
           }
          ],
          "histogram2d": [
           {
            "colorbar": {
             "outlinewidth": 0,
             "ticks": ""
            },
            "colorscale": [
             [
              0,
              "#0d0887"
             ],
             [
              0.1111111111111111,
              "#46039f"
             ],
             [
              0.2222222222222222,
              "#7201a8"
             ],
             [
              0.3333333333333333,
              "#9c179e"
             ],
             [
              0.4444444444444444,
              "#bd3786"
             ],
             [
              0.5555555555555556,
              "#d8576b"
             ],
             [
              0.6666666666666666,
              "#ed7953"
             ],
             [
              0.7777777777777778,
              "#fb9f3a"
             ],
             [
              0.8888888888888888,
              "#fdca26"
             ],
             [
              1,
              "#f0f921"
             ]
            ],
            "type": "histogram2d"
           }
          ],
          "histogram2dcontour": [
           {
            "colorbar": {
             "outlinewidth": 0,
             "ticks": ""
            },
            "colorscale": [
             [
              0,
              "#0d0887"
             ],
             [
              0.1111111111111111,
              "#46039f"
             ],
             [
              0.2222222222222222,
              "#7201a8"
             ],
             [
              0.3333333333333333,
              "#9c179e"
             ],
             [
              0.4444444444444444,
              "#bd3786"
             ],
             [
              0.5555555555555556,
              "#d8576b"
             ],
             [
              0.6666666666666666,
              "#ed7953"
             ],
             [
              0.7777777777777778,
              "#fb9f3a"
             ],
             [
              0.8888888888888888,
              "#fdca26"
             ],
             [
              1,
              "#f0f921"
             ]
            ],
            "type": "histogram2dcontour"
           }
          ],
          "mesh3d": [
           {
            "colorbar": {
             "outlinewidth": 0,
             "ticks": ""
            },
            "type": "mesh3d"
           }
          ],
          "parcoords": [
           {
            "line": {
             "colorbar": {
              "outlinewidth": 0,
              "ticks": ""
             }
            },
            "type": "parcoords"
           }
          ],
          "pie": [
           {
            "automargin": true,
            "type": "pie"
           }
          ],
          "scatter": [
           {
            "fillpattern": {
             "fillmode": "overlay",
             "size": 10,
             "solidity": 0.2
            },
            "type": "scatter"
           }
          ],
          "scatter3d": [
           {
            "line": {
             "colorbar": {
              "outlinewidth": 0,
              "ticks": ""
             }
            },
            "marker": {
             "colorbar": {
              "outlinewidth": 0,
              "ticks": ""
             }
            },
            "type": "scatter3d"
           }
          ],
          "scattercarpet": [
           {
            "marker": {
             "colorbar": {
              "outlinewidth": 0,
              "ticks": ""
             }
            },
            "type": "scattercarpet"
           }
          ],
          "scattergeo": [
           {
            "marker": {
             "colorbar": {
              "outlinewidth": 0,
              "ticks": ""
             }
            },
            "type": "scattergeo"
           }
          ],
          "scattergl": [
           {
            "marker": {
             "colorbar": {
              "outlinewidth": 0,
              "ticks": ""
             }
            },
            "type": "scattergl"
           }
          ],
          "scattermapbox": [
           {
            "marker": {
             "colorbar": {
              "outlinewidth": 0,
              "ticks": ""
             }
            },
            "type": "scattermapbox"
           }
          ],
          "scatterpolar": [
           {
            "marker": {
             "colorbar": {
              "outlinewidth": 0,
              "ticks": ""
             }
            },
            "type": "scatterpolar"
           }
          ],
          "scatterpolargl": [
           {
            "marker": {
             "colorbar": {
              "outlinewidth": 0,
              "ticks": ""
             }
            },
            "type": "scatterpolargl"
           }
          ],
          "scatterternary": [
           {
            "marker": {
             "colorbar": {
              "outlinewidth": 0,
              "ticks": ""
             }
            },
            "type": "scatterternary"
           }
          ],
          "surface": [
           {
            "colorbar": {
             "outlinewidth": 0,
             "ticks": ""
            },
            "colorscale": [
             [
              0,
              "#0d0887"
             ],
             [
              0.1111111111111111,
              "#46039f"
             ],
             [
              0.2222222222222222,
              "#7201a8"
             ],
             [
              0.3333333333333333,
              "#9c179e"
             ],
             [
              0.4444444444444444,
              "#bd3786"
             ],
             [
              0.5555555555555556,
              "#d8576b"
             ],
             [
              0.6666666666666666,
              "#ed7953"
             ],
             [
              0.7777777777777778,
              "#fb9f3a"
             ],
             [
              0.8888888888888888,
              "#fdca26"
             ],
             [
              1,
              "#f0f921"
             ]
            ],
            "type": "surface"
           }
          ],
          "table": [
           {
            "cells": {
             "fill": {
              "color": "#EBF0F8"
             },
             "line": {
              "color": "white"
             }
            },
            "header": {
             "fill": {
              "color": "#C8D4E3"
             },
             "line": {
              "color": "white"
             }
            },
            "type": "table"
           }
          ]
         },
         "layout": {
          "annotationdefaults": {
           "arrowcolor": "#2a3f5f",
           "arrowhead": 0,
           "arrowwidth": 1
          },
          "autotypenumbers": "strict",
          "coloraxis": {
           "colorbar": {
            "outlinewidth": 0,
            "ticks": ""
           }
          },
          "colorscale": {
           "diverging": [
            [
             0,
             "#8e0152"
            ],
            [
             0.1,
             "#c51b7d"
            ],
            [
             0.2,
             "#de77ae"
            ],
            [
             0.3,
             "#f1b6da"
            ],
            [
             0.4,
             "#fde0ef"
            ],
            [
             0.5,
             "#f7f7f7"
            ],
            [
             0.6,
             "#e6f5d0"
            ],
            [
             0.7,
             "#b8e186"
            ],
            [
             0.8,
             "#7fbc41"
            ],
            [
             0.9,
             "#4d9221"
            ],
            [
             1,
             "#276419"
            ]
           ],
           "sequential": [
            [
             0,
             "#0d0887"
            ],
            [
             0.1111111111111111,
             "#46039f"
            ],
            [
             0.2222222222222222,
             "#7201a8"
            ],
            [
             0.3333333333333333,
             "#9c179e"
            ],
            [
             0.4444444444444444,
             "#bd3786"
            ],
            [
             0.5555555555555556,
             "#d8576b"
            ],
            [
             0.6666666666666666,
             "#ed7953"
            ],
            [
             0.7777777777777778,
             "#fb9f3a"
            ],
            [
             0.8888888888888888,
             "#fdca26"
            ],
            [
             1,
             "#f0f921"
            ]
           ],
           "sequentialminus": [
            [
             0,
             "#0d0887"
            ],
            [
             0.1111111111111111,
             "#46039f"
            ],
            [
             0.2222222222222222,
             "#7201a8"
            ],
            [
             0.3333333333333333,
             "#9c179e"
            ],
            [
             0.4444444444444444,
             "#bd3786"
            ],
            [
             0.5555555555555556,
             "#d8576b"
            ],
            [
             0.6666666666666666,
             "#ed7953"
            ],
            [
             0.7777777777777778,
             "#fb9f3a"
            ],
            [
             0.8888888888888888,
             "#fdca26"
            ],
            [
             1,
             "#f0f921"
            ]
           ]
          },
          "colorway": [
           "#636efa",
           "#EF553B",
           "#00cc96",
           "#ab63fa",
           "#FFA15A",
           "#19d3f3",
           "#FF6692",
           "#B6E880",
           "#FF97FF",
           "#FECB52"
          ],
          "font": {
           "color": "#2a3f5f"
          },
          "geo": {
           "bgcolor": "white",
           "lakecolor": "white",
           "landcolor": "#E5ECF6",
           "showlakes": true,
           "showland": true,
           "subunitcolor": "white"
          },
          "hoverlabel": {
           "align": "left"
          },
          "hovermode": "closest",
          "mapbox": {
           "style": "light"
          },
          "paper_bgcolor": "white",
          "plot_bgcolor": "#E5ECF6",
          "polar": {
           "angularaxis": {
            "gridcolor": "white",
            "linecolor": "white",
            "ticks": ""
           },
           "bgcolor": "#E5ECF6",
           "radialaxis": {
            "gridcolor": "white",
            "linecolor": "white",
            "ticks": ""
           }
          },
          "scene": {
           "xaxis": {
            "backgroundcolor": "#E5ECF6",
            "gridcolor": "white",
            "gridwidth": 2,
            "linecolor": "white",
            "showbackground": true,
            "ticks": "",
            "zerolinecolor": "white"
           },
           "yaxis": {
            "backgroundcolor": "#E5ECF6",
            "gridcolor": "white",
            "gridwidth": 2,
            "linecolor": "white",
            "showbackground": true,
            "ticks": "",
            "zerolinecolor": "white"
           },
           "zaxis": {
            "backgroundcolor": "#E5ECF6",
            "gridcolor": "white",
            "gridwidth": 2,
            "linecolor": "white",
            "showbackground": true,
            "ticks": "",
            "zerolinecolor": "white"
           }
          },
          "shapedefaults": {
           "line": {
            "color": "#2a3f5f"
           }
          },
          "ternary": {
           "aaxis": {
            "gridcolor": "white",
            "linecolor": "white",
            "ticks": ""
           },
           "baxis": {
            "gridcolor": "white",
            "linecolor": "white",
            "ticks": ""
           },
           "bgcolor": "#E5ECF6",
           "caxis": {
            "gridcolor": "white",
            "linecolor": "white",
            "ticks": ""
           }
          },
          "title": {
           "x": 0.05
          },
          "xaxis": {
           "automargin": true,
           "gridcolor": "white",
           "linecolor": "white",
           "ticks": "",
           "title": {
            "standoff": 15
           },
           "zerolinecolor": "white",
           "zerolinewidth": 2
          },
          "yaxis": {
           "automargin": true,
           "gridcolor": "white",
           "linecolor": "white",
           "ticks": "",
           "title": {
            "standoff": 15
           },
           "zerolinecolor": "white",
           "zerolinewidth": 2
          }
         }
        },
        "title": {
         "text": "Relación entre Ataque y Defensa en Pokémon de la Generación 1"
        },
        "xaxis": {
         "anchor": "y",
         "domain": [
          0,
          1
         ],
         "title": {
          "text": "Ataque"
         }
        },
        "yaxis": {
         "anchor": "x",
         "domain": [
          0,
          1
         ],
         "title": {
          "text": "Defensa"
         }
        }
       }
      }
     },
     "metadata": {},
     "output_type": "display_data"
    }
   ],
   "source": [
    "fig = px.scatter(\n",
    "    data_frame=df.filter(\n",
    "        (pl.col('Generation') == 1) & \n",
    "        (~pl.col('Name').str.contains('Mega'))\n",
    "    ).to_pandas(),\n",
    "    x='Attack',\n",
    "    y='Defense',\n",
    "    color='Type_1',\n",
    "    size='HP',\n",
    "    hover_name = 'Name',\n",
    "    symbol='Legendary_Type',\n",
    "    symbol_map={\n",
    "        'Legendary': 'star',\n",
    "        'Non-Legendary': 'circle'\n",
    "    }\n",
    ")\n",
    "\n",
    "fig.add_shape(\n",
    "    type='line',\n",
    "    name='Avg_attack',\n",
    "    x0=avg_attack,\n",
    "    x1=avg_attack,\n",
    "    y0=0,\n",
    "    y1=200,\n",
    "    line=dict(\n",
    "        color='red',\n",
    "        width=1,\n",
    "        dash='dash'\n",
    "    )\n",
    ")\n",
    "\n",
    "fig.add_shape(\n",
    "    type='line',\n",
    "    name='Avg_attack',\n",
    "    x0=0,\n",
    "    x1=200,\n",
    "    y0=avg_defense,\n",
    "    y1=avg_defense,\n",
    "    line=dict(\n",
    "        color='green',\n",
    "        width=1,\n",
    "        dash='dash'\n",
    "    )\n",
    ")\n",
    "\n",
    "\n",
    "fig.update_layout(\n",
    "    title = 'Relación entre Ataque y Defensa en Pokémon de la Generación 1',\n",
    "    xaxis_title = 'Ataque',\n",
    "    yaxis_title = 'Defensa',\n",
    "    legend_title = 'Tipo de Pokémon',\n",
    "    font = dict(size=13)\n",
    ")\n",
    "\n",
    "fig.show()"
   ]
  }
 ],
 "metadata": {
  "kernelspec": {
   "display_name": "venv",
   "language": "python",
   "name": "python3"
  },
  "language_info": {
   "codemirror_mode": {
    "name": "ipython",
    "version": 3
   },
   "file_extension": ".py",
   "mimetype": "text/x-python",
   "name": "python",
   "nbconvert_exporter": "python",
   "pygments_lexer": "ipython3",
   "version": "3.12.2"
  }
 },
 "nbformat": 4,
 "nbformat_minor": 5
}
