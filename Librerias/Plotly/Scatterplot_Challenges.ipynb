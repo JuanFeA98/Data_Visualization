{
 "cells": [
  {
   "cell_type": "markdown",
   "id": "9133e6aa",
   "metadata": {},
   "source": [
    "## **Scatter Plot**"
   ]
  },
  {
   "cell_type": "markdown",
   "id": "bf9fcc75",
   "metadata": {},
   "source": [
    "### **Librerías**"
   ]
  },
  {
   "cell_type": "code",
   "execution_count": 41,
   "id": "d16c15c0",
   "metadata": {},
   "outputs": [],
   "source": [
    "import pandas as pd\n",
    "import numpy as np"
   ]
  },
  {
   "cell_type": "code",
   "execution_count": 2,
   "id": "50995a87",
   "metadata": {},
   "outputs": [],
   "source": [
    "import plotly.express as px\n",
    "import plotly.graph_objects as go"
   ]
  },
  {
   "cell_type": "markdown",
   "id": "f6626474",
   "metadata": {},
   "source": [
    "## **Challenge 1**"
   ]
  },
  {
   "attachments": {
    "image.png": {
     "image/png": "[encoded data removed]"
    }
   },
   "cell_type": "markdown",
   "id": "bc74946b",
   "metadata": {},
   "source": [
    "![image.png](attachment:image.png)"
   ]
  },
  {
   "cell_type": "markdown",
   "id": "780b8483",
   "metadata": {},
   "source": [
    "### **Data**"
   ]
  },
  {
   "cell_type": "code",
   "execution_count": 3,
   "id": "6d82409a",
   "metadata": {},
   "outputs": [],
   "source": [
    "data = {\n",
    "    'miles_per_month': [500, 600, 800, 1000, 1100, 1200, 1300, 1400,\n",
    "                        1500, 1600, 1700, 1800, 1900, 2000, 2100, 2200,\n",
    "                        2300, 2400, 2500, 2600, 2700, 2800, 2900, 3000,\n",
    "                        3100, 3200, 3300, 3400, 3500, 3600, 3700, 3800],\n",
    "    'cost_per_mile': [2.7, 2.6, 2.4, 2.3, 2.1, 1.9, 1.8, 1.6,\n",
    "                      1.5, 1.4, 1.3, 1.2, 1.2, 1.3, 1.2, 1.1,\n",
    "                      1.1, 1.0, 1.1, 1.1, 1.2, 1.3, 1.4, 2.0,\n",
    "                      2.1, 2.2, 2.3, 2.4, 2.3, 2.4, 2.5, 2.6]\n",
    "}\n",
    "\n",
    "df = pd.DataFrame(data)"
   ]
  },
  {
   "cell_type": "code",
   "execution_count": 33,
   "id": "2082f01a",
   "metadata": {},
   "outputs": [],
   "source": [
    "cost_per_mile_mean = df['cost_per_mile'].mean()\n",
    "miles_per_month_mean = df['miles_per_month'].mean()"
   ]
  },
  {
   "cell_type": "code",
   "execution_count": null,
   "id": "6ef8a613",
   "metadata": {},
   "outputs": [
    {
     "data": {
      "text/html": [
       "<div>\n",
       "<style scoped>\n",
       "    .dataframe tbody tr th:only-of-type {\n",
       "        vertical-align: middle;\n",
       "    }\n",
       "\n",
       "    .dataframe tbody tr th {\n",
       "        vertical-align: top;\n",
       "    }\n",
       "\n",
       "    .dataframe thead th {\n",
       "        text-align: right;\n",
       "    }\n",
       "</style>\n",
       "<table border=\"1\" class=\"dataframe\">\n",
       "  <thead>\n",
       "    <tr style=\"text-align: right;\">\n",
       "      <th></th>\n",
       "      <th>miles_per_month</th>\n",
       "      <th>cost_per_mile</th>\n",
       "    </tr>\n",
       "  </thead>\n",
       "  <tbody>\n",
       "    <tr>\n",
       "      <th>20</th>\n",
       "      <td>2700</td>\n",
       "      <td>1.2</td>\n",
       "    </tr>\n",
       "  </tbody>\n",
       "</table>\n",
       "</div>"
      ],
      "text/plain": [
       "    miles_per_month  cost_per_mile\n",
       "20             2700            1.2"
      ]
     },
     "execution_count": 5,
     "metadata": {},
     "output_type": "execute_result"
    }
   ],
   "source": [
    "df.sample()"
   ]
  },
  {
   "cell_type": "code",
   "execution_count": 43,
   "id": "8f89c684",
   "metadata": {},
   "outputs": [],
   "source": [
    "df['is_above_average'] = np.where(\n",
    "    df['cost_per_mile'] > cost_per_mile_mean, \n",
    "    'Above Average', \n",
    "    'Below Average'\n",
    ")"
   ]
  },
  {
   "cell_type": "code",
   "execution_count": null,
   "id": "86202857",
   "metadata": {},
   "outputs": [
    {
     "data": {
      "application/vnd.plotly.v1+json": {
       "config": {
        "plotlyServerURL": "https://plot.ly"
       },
       "data": [
        {
         "hovertemplate": "is_above_average=Above Average<br>miles_per_month=%{x}<br>cost_per_mile=%{y}<extra></extra>",
         "legendgroup": "Above Average",
         "marker": {
          "color": "rgba(255, 165, 0, 0.9)",
          "size": 9,
          "symbol": "circle"
         },
         "mode": "markers",
         "name": "Above Average",
         "orientation": "v",
         "showlegend": true,
         "type": "scatter",
         "x": [
          500,
          600,
          800,
          1000,
          1100,
          1200,
          1300,
          3000,
          3100,
          3200,
          3300,
          3400,
          3500,
          3600,
          3700,
          3800
         ],
         "xaxis": "x",
         "y": [
          2.7,
          2.6,
          2.4,
          2.3,
          2.1,
          1.9,
          1.8,
          2,
          2.1,
          2.2,
          2.3,
          2.4,
          2.3,
          2.4,
          2.5,
          2.6
         ],
         "yaxis": "y"
        },
        {
         "hovertemplate": "is_above_average=Below Average<br>miles_per_month=%{x}<br>cost_per_mile=%{y}<extra></extra>",
         "legendgroup": "Below Average",
         "marker": {
          "color": "rgba(0, 0, 0, 0.3)",
          "size": 9,
          "symbol": "circle"
         },
         "mode": "markers",
         "name": "Below Average",
         "orientation": "v",
         "showlegend": true,
         "type": "scatter",
         "x": [
          1400,
          1500,
          1600,
          1700,
          1800,
          1900,
          2000,
          2100,
          2200,
          2300,
          2400,
          2500,
          2600,
          2700,
          2800,
          2900
         ],
         "xaxis": "x",
         "y": [
          1.6,
          1.5,
          1.4,
          1.3,
          1.2,
          1.2,
          1.3,
          1.2,
          1.1,
          1.1,
          1,
          1.1,
          1.1,
          1.2,
          1.3,
          1.4
         ],
         "yaxis": "y"
        },
        {
         "marker": {
          "color": "rgba(0, 0, 0, 0.8)",
          "size": 12
         },
         "type": "scatter",
         "x": [
          2234.375
         ],
         "y": [
          1.76875
         ]
        }
       ],
       "layout": {
        "annotations": [
         {
          "font": {
           "color": "rgba(0, 0, 0, 0.9)",
           "family": "Trebuchet MS",
           "size": 13
          },
          "showarrow": false,
          "text": "Cost per mile",
          "textangle": -90,
          "x": -0.185,
          "xref": "paper",
          "y": 1.02,
          "yref": "paper"
         },
         {
          "font": {
           "color": "rgba(0, 0, 0, 0.9)",
           "family": "Trebuchet MS",
           "size": 13
          },
          "showarrow": false,
          "text": "Miles drive per month",
          "textangle": 0,
          "x": 0,
          "xref": "paper",
          "y": -0.13,
          "yref": "paper"
         },
         {
          "bgcolor": "white",
          "font": {
           "color": "black",
           "family": "Trebuchet MS",
           "size": 14,
           "weight": "bold"
          },
          "showarrow": false,
          "text": "AVG",
          "textangle": 0,
          "x": 0.48,
          "xref": "paper",
          "y": 0.586,
          "yref": "paper"
         }
        ],
        "legend": {
         "title": {
          "text": "is_above_average"
         },
         "tracegroupgap": 0
        },
        "margin": {
         "b": 70,
         "l": 85,
         "r": 50,
         "t": 65
        },
        "plot_bgcolor": "white",
        "shapes": [
         {
          "line": {
           "color": "rgba(0, 0, 0, 0.7)",
           "dash": "dash"
          },
          "type": "line",
          "x0": 0,
          "x1": 4000,
          "y0": 1.76875,
          "y1": 1.76875
         }
        ],
        "showlegend": false,
        "template": {
         "data": {
          "bar": [
           {
            "error_x": {
             "color": "#2a3f5f"
            },
            "error_y": {
             "color": "#2a3f5f"
            },
            "marker": {
             "line": {
              "color": "#E5ECF6",
              "width": 0.5
             },
             "pattern": {
              "fillmode": "overlay",
              "size": 10,
              "solidity": 0.2
             }
            },
            "type": "bar"
           }
          ],
          "barpolar": [
           {
            "marker": {
             "line": {
              "color": "#E5ECF6",
              "width": 0.5
             },
             "pattern": {
              "fillmode": "overlay",
              "size": 10,
              "solidity": 0.2
             }
            },
            "type": "barpolar"
           }
          ],
          "carpet": [
           {
            "aaxis": {
             "endlinecolor": "#2a3f5f",
             "gridcolor": "white",
             "linecolor": "white",
             "minorgridcolor": "white",
             "startlinecolor": "#2a3f5f"
            },
            "baxis": {
             "endlinecolor": "#2a3f5f",
             "gridcolor": "white",
             "linecolor": "white",
             "minorgridcolor": "white",
             "startlinecolor": "#2a3f5f"
            },
            "type": "carpet"
           }
          ],
          "choropleth": [
           {
            "colorbar": {
             "outlinewidth": 0,
             "ticks": ""
            },
            "type": "choropleth"
           }
          ],
          "contour": [
           {
            "colorbar": {
             "outlinewidth": 0,
             "ticks": ""
            },
            "colorscale": [
             [
              0,
              "#0d0887"
             ],
             [
              0.1111111111111111,
              "#46039f"
             ],
             [
              0.2222222222222222,
              "#7201a8"
             ],
             [
              0.3333333333333333,
              "#9c179e"
             ],
             [
              0.4444444444444444,
              "#bd3786"
             ],
             [
              0.5555555555555556,
              "#d8576b"
             ],
             [
              0.6666666666666666,
              "#ed7953"
             ],
             [
              0.7777777777777778,
              "#fb9f3a"
             ],
             [
              0.8888888888888888,
              "#fdca26"
             ],
             [
              1,
              "#f0f921"
             ]
            ],
            "type": "contour"
           }
          ],
          "contourcarpet": [
           {
            "colorbar": {
             "outlinewidth": 0,
             "ticks": ""
            },
            "type": "contourcarpet"
           }
          ],
          "heatmap": [
           {
            "colorbar": {
             "outlinewidth": 0,
             "ticks": ""
            },
            "colorscale": [
             [
              0,
              "#0d0887"
             ],
             [
              0.1111111111111111,
              "#46039f"
             ],
             [
              0.2222222222222222,
              "#7201a8"
             ],
             [
              0.3333333333333333,
              "#9c179e"
             ],
             [
              0.4444444444444444,
              "#bd3786"
             ],
             [
              0.5555555555555556,
              "#d8576b"
             ],
             [
              0.6666666666666666,
              "#ed7953"
             ],
             [
              0.7777777777777778,
              "#fb9f3a"
             ],
             [
              0.8888888888888888,
              "#fdca26"
             ],
             [
              1,
              "#f0f921"
             ]
            ],
            "type": "heatmap"
           }
          ],
          "heatmapgl": [
           {
            "colorbar": {
             "outlinewidth": 0,
             "ticks": ""
            },
            "colorscale": [
             [
              0,
              "#0d0887"
             ],
             [
              0.1111111111111111,
              "#46039f"
             ],
             [
              0.2222222222222222,
              "#7201a8"
             ],
             [
              0.3333333333333333,
              "#9c179e"
             ],
             [
              0.4444444444444444,
              "#bd3786"
             ],
             [
              0.5555555555555556,
              "#d8576b"
             ],
             [
              0.6666666666666666,
              "#ed7953"
             ],
             [
              0.7777777777777778,
              "#fb9f3a"
             ],
             [
              0.8888888888888888,
              "#fdca26"
             ],
             [
              1,
              "#f0f921"
             ]
            ],
            "type": "heatmapgl"
           }
          ],
          "histogram": [
           {
            "marker": {
             "pattern": {
              "fillmode": "overlay",
              "size": 10,
              "solidity": 0.2
             }
            },
            "type": "histogram"
           }
          ],
          "histogram2d": [
           {
            "colorbar": {
             "outlinewidth": 0,
             "ticks": ""
            },
            "colorscale": [
             [
              0,
              "#0d0887"
             ],
             [
              0.1111111111111111,
              "#46039f"
             ],
             [
              0.2222222222222222,
              "#7201a8"
             ],
             [
              0.3333333333333333,
              "#9c179e"
             ],
             [
              0.4444444444444444,
              "#bd3786"
             ],
             [
              0.5555555555555556,
              "#d8576b"
             ],
             [
              0.6666666666666666,
              "#ed7953"
             ],
             [
              0.7777777777777778,
              "#fb9f3a"
             ],
             [
              0.8888888888888888,
              "#fdca26"
             ],
             [
              1,
              "#f0f921"
             ]
            ],
            "type": "histogram2d"
           }
          ],
          "histogram2dcontour": [
           {
            "colorbar": {
             "outlinewidth": 0,
             "ticks": ""
            },
            "colorscale": [
             [
              0,
              "#0d0887"
             ],
             [
              0.1111111111111111,
              "#46039f"
             ],
             [
              0.2222222222222222,
              "#7201a8"
             ],
             [
              0.3333333333333333,
              "#9c179e"
             ],
             [
              0.4444444444444444,
              "#bd3786"
             ],
             [
              0.5555555555555556,
              "#d8576b"
             ],
             [
              0.6666666666666666,
              "#ed7953"
             ],
             [
              0.7777777777777778,
              "#fb9f3a"
             ],
             [
              0.8888888888888888,
              "#fdca26"
             ],
             [
              1,
              "#f0f921"
             ]
            ],
            "type": "histogram2dcontour"
           }
          ],
          "mesh3d": [
           {
            "colorbar": {
             "outlinewidth": 0,
             "ticks": ""
            },
            "type": "mesh3d"
           }
          ],
          "parcoords": [
           {
            "line": {
             "colorbar": {
              "outlinewidth": 0,
              "ticks": ""
             }
            },
            "type": "parcoords"
           }
          ],
          "pie": [
           {
            "automargin": true,
            "type": "pie"
           }
          ],
          "scatter": [
           {
            "fillpattern": {
             "fillmode": "overlay",
             "size": 10,
             "solidity": 0.2
            },
            "type": "scatter"
           }
          ],
          "scatter3d": [
           {
            "line": {
             "colorbar": {
              "outlinewidth": 0,
              "ticks": ""
             }
            },
            "marker": {
             "colorbar": {
              "outlinewidth": 0,
              "ticks": ""
             }
            },
            "type": "scatter3d"
           }
          ],
          "scattercarpet": [
           {
            "marker": {
             "colorbar": {
              "outlinewidth": 0,
              "ticks": ""
             }
            },
            "type": "scattercarpet"
           }
          ],
          "scattergeo": [
           {
            "marker": {
             "colorbar": {
              "outlinewidth": 0,
              "ticks": ""
             }
            },
            "type": "scattergeo"
           }
          ],
          "scattergl": [
           {
            "marker": {
             "colorbar": {
              "outlinewidth": 0,
              "ticks": ""
             }
            },
            "type": "scattergl"
           }
          ],
          "scattermapbox": [
           {
            "marker": {
             "colorbar": {
              "outlinewidth": 0,
              "ticks": ""
             }
            },
            "type": "scattermapbox"
           }
          ],
          "scatterpolar": [
           {
            "marker": {
             "colorbar": {
              "outlinewidth": 0,
              "ticks": ""
             }
            },
            "type": "scatterpolar"
           }
          ],
          "scatterpolargl": [
           {
            "marker": {
             "colorbar": {
              "outlinewidth": 0,
              "ticks": ""
             }
            },
            "type": "scatterpolargl"
           }
          ],
          "scatterternary": [
           {
            "marker": {
             "colorbar": {
              "outlinewidth": 0,
              "ticks": ""
             }
            },
            "type": "scatterternary"
           }
          ],
          "surface": [
           {
            "colorbar": {
             "outlinewidth": 0,
             "ticks": ""
            },
            "colorscale": [
             [
              0,
              "#0d0887"
             ],
             [
              0.1111111111111111,
              "#46039f"
             ],
             [
              0.2222222222222222,
              "#7201a8"
             ],
             [
              0.3333333333333333,
              "#9c179e"
             ],
             [
              0.4444444444444444,
              "#bd3786"
             ],
             [
              0.5555555555555556,
              "#d8576b"
             ],
             [
              0.6666666666666666,
              "#ed7953"
             ],
             [
              0.7777777777777778,
              "#fb9f3a"
             ],
             [
              0.8888888888888888,
              "#fdca26"
             ],
             [
              1,
              "#f0f921"
             ]
            ],
            "type": "surface"
           }
          ],
          "table": [
           {
            "cells": {
             "fill": {
              "color": "#EBF0F8"
             },
             "line": {
              "color": "white"
             }
            },
            "header": {
             "fill": {
              "color": "#C8D4E3"
             },
             "line": {
              "color": "white"
             }
            },
            "type": "table"
           }
          ]
         },
         "layout": {
          "annotationdefaults": {
           "arrowcolor": "#2a3f5f",
           "arrowhead": 0,
           "arrowwidth": 1
          },
          "autotypenumbers": "strict",
          "coloraxis": {
           "colorbar": {
            "outlinewidth": 0,
            "ticks": ""
           }
          },
          "colorscale": {
           "diverging": [
            [
             0,
             "#8e0152"
            ],
            [
             0.1,
             "#c51b7d"
            ],
            [
             0.2,
             "#de77ae"
            ],
            [
             0.3,
             "#f1b6da"
            ],
            [
             0.4,
             "#fde0ef"
            ],
            [
             0.5,
             "#f7f7f7"
            ],
            [
             0.6,
             "#e6f5d0"
            ],
            [
             0.7,
             "#b8e186"
            ],
            [
             0.8,
             "#7fbc41"
            ],
            [
             0.9,
             "#4d9221"
            ],
            [
             1,
             "#276419"
            ]
           ],
           "sequential": [
            [
             0,
             "#0d0887"
            ],
            [
             0.1111111111111111,
             "#46039f"
            ],
            [
             0.2222222222222222,
             "#7201a8"
            ],
            [
             0.3333333333333333,
             "#9c179e"
            ],
            [
             0.4444444444444444,
             "#bd3786"
            ],
            [
             0.5555555555555556,
             "#d8576b"
            ],
            [
             0.6666666666666666,
             "#ed7953"
            ],
            [
             0.7777777777777778,
             "#fb9f3a"
            ],
            [
             0.8888888888888888,
             "#fdca26"
            ],
            [
             1,
             "#f0f921"
            ]
           ],
           "sequentialminus": [
            [
             0,
             "#0d0887"
            ],
            [
             0.1111111111111111,
             "#46039f"
            ],
            [
             0.2222222222222222,
             "#7201a8"
            ],
            [
             0.3333333333333333,
             "#9c179e"
            ],
            [
             0.4444444444444444,
             "#bd3786"
            ],
            [
             0.5555555555555556,
             "#d8576b"
            ],
            [
             0.6666666666666666,
             "#ed7953"
            ],
            [
             0.7777777777777778,
             "#fb9f3a"
            ],
            [
             0.8888888888888888,
             "#fdca26"
            ],
            [
             1,
             "#f0f921"
            ]
           ]
          },
          "colorway": [
           "#636efa",
           "#EF553B",
           "#00cc96",
           "#ab63fa",
           "#FFA15A",
           "#19d3f3",
           "#FF6692",
           "#B6E880",
           "#FF97FF",
           "#FECB52"
          ],
          "font": {
           "color": "#2a3f5f"
          },
          "geo": {
           "bgcolor": "white",
           "lakecolor": "white",
           "landcolor": "#E5ECF6",
           "showlakes": true,
           "showland": true,
           "subunitcolor": "white"
          },
          "hoverlabel": {
           "align": "left"
          },
          "hovermode": "closest",
          "mapbox": {
           "style": "light"
          },
          "paper_bgcolor": "white",
          "plot_bgcolor": "#E5ECF6",
          "polar": {
           "angularaxis": {
            "gridcolor": "white",
            "linecolor": "white",
            "ticks": ""
           },
           "bgcolor": "#E5ECF6",
           "radialaxis": {
            "gridcolor": "white",
            "linecolor": "white",
            "ticks": ""
           }
          },
          "scene": {
           "xaxis": {
            "backgroundcolor": "#E5ECF6",
            "gridcolor": "white",
            "gridwidth": 2,
            "linecolor": "white",
            "showbackground": true,
            "ticks": "",
            "zerolinecolor": "white"
           },
           "yaxis": {
            "backgroundcolor": "#E5ECF6",
            "gridcolor": "white",
            "gridwidth": 2,
            "linecolor": "white",
            "showbackground": true,
            "ticks": "",
            "zerolinecolor": "white"
           },
           "zaxis": {
            "backgroundcolor": "#E5ECF6",
            "gridcolor": "white",
            "gridwidth": 2,
            "linecolor": "white",
            "showbackground": true,
            "ticks": "",
            "zerolinecolor": "white"
           }
          },
          "shapedefaults": {
           "line": {
            "color": "#2a3f5f"
           }
          },
          "ternary": {
           "aaxis": {
            "gridcolor": "white",
            "linecolor": "white",
            "ticks": ""
           },
           "baxis": {
            "gridcolor": "white",
            "linecolor": "white",
            "ticks": ""
           },
           "bgcolor": "#E5ECF6",
           "caxis": {
            "gridcolor": "white",
            "linecolor": "white",
            "ticks": ""
           }
          },
          "title": {
           "x": 0.05
          },
          "xaxis": {
           "automargin": true,
           "gridcolor": "white",
           "linecolor": "white",
           "ticks": "",
           "title": {
            "standoff": 15
           },
           "zerolinecolor": "white",
           "zerolinewidth": 2
          },
          "yaxis": {
           "automargin": true,
           "gridcolor": "white",
           "linecolor": "white",
           "ticks": "",
           "title": {
            "standoff": 15
           },
           "zerolinecolor": "white",
           "zerolinewidth": 2
          }
         }
        },
        "title": {
         "font": {
          "color": "rgba(0, 0, 0, 0.8)",
          "family": "Trebuchet MS"
         },
         "text": "Cost per mile by miles driven",
         "x": 0.04,
         "y": 0.95
        },
        "width": 500,
        "xaxis": {
         "anchor": "y",
         "domain": [
          0,
          1
         ],
         "linecolor": "rgba(0, 0, 0, 0.5)",
         "showline": true,
         "tickfont": {
          "color": "rgba(0, 0, 0, 0.8)",
          "size": 11
         },
         "tickformat": ",",
         "ticks": "outside",
         "title": {
          "text": ""
         }
        },
        "yaxis": {
         "anchor": "x",
         "domain": [
          0,
          1
         ],
         "linecolor": "rgba(0, 0, 0, 0.5)",
         "range": [
          0,
          3
         ],
         "showline": true,
         "tickfont": {
          "color": "rgba(0, 0, 0, 0.8)",
          "size": 11
         },
         "tickformat": "$,.2f",
         "ticks": "outside",
         "title": {
          "text": ""
         }
        }
       }
      }
     },
     "metadata": {},
     "output_type": "display_data"
    }
   ],
   "source": [
    "# Definición del gráfico\n",
    "fig = px.scatter(\n",
    "    data_frame=df,\n",
    "    x='miles_per_month',\n",
    "    y='cost_per_mile',\n",
    "    width=500,\n",
    "    color='is_above_average',\n",
    "    color_discrete_map={\n",
    "        'Above Average': 'rgba(255, 165, 0, 0.9)',\n",
    "        'Below Average': 'rgba(0, 0, 0, 0.3)'\n",
    "    }\n",
    ")\n",
    "\n",
    "# Tamaño de las burbujas\n",
    "fig.update_traces(\n",
    "    marker=dict(size=9)\n",
    ")\n",
    "\n",
    "# Configuración del gráfico\n",
    "fig.update_layout(\n",
    "    title=dict(\n",
    "        text='Cost per mile by miles driven',\n",
    "        x=0.04,\n",
    "        y=0.95,        \n",
    "        font=dict(\n",
    "            family='Trebuchet MS',\n",
    "            color='rgba(0, 0, 0, 0.8)'\n",
    "        )\n",
    "    ),\n",
    "    plot_bgcolor='white',\n",
    "    xaxis=dict(\n",
    "        title='',\n",
    "        showline=True,\n",
    "        linecolor='rgba(0, 0, 0, 0.5)',\n",
    "        tickfont=dict(size=11, color='rgba(0, 0, 0, 0.8)'),\n",
    "        ticks='outside',\n",
    "        tickformat=',',\n",
    "    ),\n",
    "    yaxis=dict(\n",
    "        title=dict(\n",
    "            text='',\n",
    "        ),\n",
    "        showline=True,\n",
    "        linecolor='rgba(0, 0, 0, 0.5)',\n",
    "        tickfont=dict(size=11, color='rgba(0, 0, 0, 0.8)'),\n",
    "        ticks='outside',\n",
    "        tickformat='$,.2f',\n",
    "        range=[0, 3]\n",
    "    ),\n",
    "    showlegend=False,\n",
    "    margin=dict(b=70, r=50, l=85, t=65)\n",
    "\n",
    ")\n",
    "\n",
    "# Titulo eje Y\n",
    "fig.add_annotation(\n",
    "    text=\"Cost per mile\",\n",
    "    xref=\"paper\",yref=\"paper\",\n",
    "    x=-0.185, y=1.02,\n",
    "    showarrow=False,\n",
    "    font=dict(size=13, color='rgba(0, 0, 0, 0.9)', family='Trebuchet MS'),\n",
    "    textangle=-90\n",
    ")\n",
    "\n",
    "# Titulo eje X\n",
    "fig.add_annotation(\n",
    "    text=\"Miles driven per month\",\n",
    "    xref=\"paper\",yref=\"paper\",\n",
    "    x=0, y=-0.13,\n",
    "    showarrow=False,\n",
    "    font=dict(size=13, color='rgba(0, 0, 0, 0.9)', family='Trebuchet MS'),\n",
    "    textangle=0,\n",
    ")\n",
    "\n",
    "# Linea de promedio\n",
    "fig.add_shape(\n",
    "    type='line',\n",
    "    x0=0, x1=4000,\n",
    "    y0=cost_per_mile_mean, y1=cost_per_mile_mean,\n",
    "    line=dict(\n",
    "        color='rgba(0, 0, 0, 0.7)',\n",
    "        dash='dash'\n",
    "    )\n",
    ")\n",
    "\n",
    "# Valor promedio\n",
    "fig.add_trace(\n",
    "    go.Scatter(\n",
    "        x=[miles_per_month_mean],\n",
    "        y=[cost_per_mile_mean],\n",
    "        marker=dict(\n",
    "            size=12,\n",
    "            color='rgba(0, 0, 0, 0.8)'\n",
    "        )\n",
    "    )\n",
    ")\n",
    "\n",
    "# Titulo del valor promedio\n",
    "fig.add_annotation(\n",
    "    text='AVG',\n",
    "    xref=\"paper\",yref=\"paper\",\n",
    "    x=0.48, y=0.586,\n",
    "    showarrow=False,\n",
    "    font=dict(size=14, color='black', family='Trebuchet MS', weight='bold'),\n",
    "    textangle=0,\n",
    "    bgcolor='white'\n",
    ")\n",
    "\n",
    "fig.show()"
   ]
  }
 ],
 "metadata": {
  "kernelspec": {
   "display_name": "venv",
   "language": "python",
   "name": "python3"
  },
  "language_info": {
   "codemirror_mode": {
    "name": "ipython",
    "version": 3
   },
   "file_extension": ".py",
   "mimetype": "text/x-python",
   "name": "python",
   "nbconvert_exporter": "python",
   "pygments_lexer": "ipython3",
   "version": "3.12.2"
  }
 },
 "nbformat": 4,
 "nbformat_minor": 5
}
